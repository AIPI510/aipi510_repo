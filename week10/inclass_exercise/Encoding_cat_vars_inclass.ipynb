{
 "cells": [
  {
   "cell_type": "markdown",
   "metadata": {},
   "source": [
    "<a href='https://ai.meng.duke.edu'> = <img align=\"left\" style=\"padding-top:10px;\" src=https://storage.googleapis.com/aipi_datasets/Duke-AIPI-Logo.png>"
   ]
  },
  {
   "cell_type": "markdown",
   "metadata": {},
   "source": [
    "# Encoding categorical variables\n",
    "In this example we are using data from a health insurance company regarding their customers and the annual medical expenses for each customer.  The objective is to develop a model which can predict the medical expenses of a customer based on demographic information about the customer."
   ]
  },
  {
   "cell_type": "code",
   "execution_count": null,
   "metadata": {},
   "outputs": [],
   "source": [
    "import numpy as np\n",
    "import pandas as pd\n",
    "import matplotlib.pyplot as plt\n",
    "import seaborn as sns\n",
    "from scipy.stats import pearsonr\n",
    "from sklearn.linear_model import LinearRegression\n",
    "from sklearn.preprocessing import LabelEncoder,OrdinalEncoder,OneHotEncoder\n",
    "from sklearn.model_selection import train_test_split\n",
    "from sklearn.metrics import r2_score\n",
    "import statsmodels.api as sm\n",
    "from statsmodels.formula.api import ols\n",
    "\n",
    "import warnings\n",
    "warnings.filterwarnings(\"ignore\")"
   ]
  },
  {
   "cell_type": "code",
   "execution_count": null,
   "metadata": {},
   "outputs": [],
   "source": [
    "# Run this before any other code cell\n",
    "# This downloads the csv data files into the same directory where you have saved this notebook\n",
    "\n",
    "import urllib.request\n",
    "from pathlib import Path\n",
    "import os\n",
    "path = Path()\n",
    "\n",
    "# Dictionary of file names and download links\n",
    "files = {'insurance_modified.csv':'https://storage.googleapis.com/aipi_datasets/insurance_modified.csv'}\n",
    "\n",
    "# Download each file\n",
    "for key,value in files.items():\n",
    "    filename = path/key\n",
    "    url = value\n",
    "    # If the file does not already exist in the directory, download it\n",
    "    if not os.path.exists(filename):\n",
    "        urllib.request.urlretrieve(url,filename)"
   ]
  },
  {
   "cell_type": "code",
   "execution_count": null,
   "metadata": {},
   "outputs": [],
   "source": [
    "# Read in the data\n",
    "data = pd.read_csv('insurance_modified.csv')\n",
    "data = data\n",
    "data.head()"
   ]
  },
  {
   "cell_type": "code",
   "execution_count": null,
   "metadata": {},
   "outputs": [],
   "source": [
    "# Create feature data and target\n",
    "X = data.drop('charges',axis=1)\n",
    "y = data['charges']\n",
    "\n",
    "X_train,X_test,y_train,y_test = train_test_split(X,y,test_size=0.2,random_state=0)\n",
    "print(\"Shape of X_train, y_train:\",X_train.shape,y_train.shape)\n",
    "print(\"Shape of X_test, y_test:\",X_test.shape,y_test.shape)"
   ]
  },
  {
   "cell_type": "markdown",
   "metadata": {},
   "source": [
    "## Encode training set\n",
    "### Ordinal encode 'sex', 'smoker', 'age_group'"
   ]
  },
  {
   "cell_type": "code",
   "execution_count": null,
   "metadata": {},
   "outputs": [],
   "source": [
    "def ordinal_encode(X,cols):\n",
    "    enc = OrdinalEncoder(handle_unknown='use_encoded_value', unknown_value=-1)\n",
    "    # Fit the encoder on training data and transform it.  We can also use it to transform test data\n",
    "    X[cols] = enc.fit_transform(X[cols])\n",
    "    return X,enc"
   ]
  },
  {
   "cell_type": "code",
   "execution_count": null,
   "metadata": {},
   "outputs": [],
   "source": [
    "# Ordinal encode the binary variables (sex, smoker) and the ordinal variable (age_group)\n",
    "X_train_encoded = X_train.copy()\n",
    "ordinal_cols = ['sex','smoker','age_group']\n",
    "\n",
    "X_train_encoded,ordinal_enc = ordinal_encode(X_train_encoded,ordinal_cols)\n",
    "X_train_encoded.head()"
   ]
  },
  {
   "cell_type": "markdown",
   "metadata": {},
   "source": [
    "### One-hot encode 'region' and 'children'"
   ]
  },
  {
   "cell_type": "code",
   "execution_count": null,
   "metadata": {},
   "outputs": [],
   "source": [
    "def onehot_encode(X,cols):\n",
    "    # Treat new categories as a new 'unknown' category (all onehot columns are 0)\n",
    "    onehot_enc = OneHotEncoder(handle_unknown='ignore')\n",
    "    # Fit encoder on training data\n",
    "    onehot_enc.fit(X[cols])\n",
    "    # Get the names of the new columns created\n",
    "    colnames = list(onehot_enc.get_feature_names(input_features=cols))\n",
    "    # Transform the data\n",
    "    onehot_vals = onehot_enc.transform(X[cols]).toarray()\n",
    "    # Put transformed data into dataframe\n",
    "    enc_df = pd.DataFrame(onehot_vals,columns=colnames,index=X.index)\n",
    "    # Add onehot columns back onto original dataframe and drop the original columns\n",
    "    X = pd.concat([X,enc_df],axis=1).drop(cols,axis=1)\n",
    "    return X,onehot_enc"
   ]
  },
  {
   "cell_type": "code",
   "execution_count": null,
   "metadata": {},
   "outputs": [],
   "source": [
    "# Features to one-hot encode\n",
    "onehotcols = ['region','children']\n",
    "X_train_encoded, onehot_enc = onehot_encode(X_train_encoded,onehotcols)\n",
    "\n",
    "X_train_encoded.head()"
   ]
  },
  {
   "cell_type": "markdown",
   "metadata": {},
   "source": [
    "## Encode test set\n",
    "### Your turn\n",
    "Complete the below function `encode_test_set()`, which takes as input the test set, the list of ordinal columns `ordinal_cols`, the list of columns to one-hot encode `onehot_cols`, the fitted ordinal encoder and the fitted one-hot encoder.  The function should use the ordinal encoder to encode the data in the columns listed in `ordinal_cols` and use the one-hot encoder to encode the data in the columns in `onehot_cols`.  The function should then return the test dataset with the columns encoded.  Note: don't forget to drop the original columns in `onehot_cols` once you have one-hot encoded them."
   ]
  },
  {
   "cell_type": "code",
   "execution_count": null,
   "metadata": {},
   "outputs": [],
   "source": [
    "def encode_test_set(X,ordinal_cols,onehot_cols,ordinal_encoder,onehot_encoder):\n",
    "    '''\n",
    "    Encodes the test set using ordinal and one-hot encoding\n",
    "\n",
    "    Inputs:\n",
    "        X(pd.DataFrame): test set inputs\n",
    "        ordinal_cols(list): list of columns to ordinal encode\n",
    "        onehot_cols(list): list of columns to one-hot encode\n",
    "        ordinal_encoder(sklearn.preprocessing._encoders.OrdinalEncoder): ordinal encoder fit on the training data\n",
    "        onehot_encoder(sklearn.preprocessing._encoders.OneHotEncoder): onehot encoder fit on the training data\n",
    "\n",
    "    Returns:\n",
    "        X(pd.DataFrame): test set with categorical features encoded\n",
    "    '''\n",
    "    ### BEGIN SOLUTION ###\n",
    "    \n",
    "    \n",
    "    ### END SOLUTION ###"
   ]
  },
  {
   "cell_type": "code",
   "execution_count": null,
   "metadata": {},
   "outputs": [],
   "source": [
    "X_test_encoded = X_test.copy()\n",
    "X_test_encoded = encode_test_set(X_test_encoded,ordinal_cols,onehotcols,ordinal_enc,onehot_enc)\n",
    "display(X_test_encoded.head())\n",
    "\n",
    "assert X_test_encoded.shape==(268, 14)"
   ]
  },
  {
   "cell_type": "markdown",
   "metadata": {},
   "source": [
    "### Run model"
   ]
  },
  {
   "cell_type": "code",
   "execution_count": null,
   "metadata": {},
   "outputs": [],
   "source": [
    "model = LinearRegression()\n",
    "model.fit(X_train_encoded,y_train)\n",
    "testpreds = model.predict(X_test_encoded)\n",
    "r2 = r2_score(y_test,testpreds)\n",
    "print(\"The model's R-squared value on the training set is {:.3f}\".format(r2))\n",
    "\n",
    "assert np.round(r2,2)==0.80"
   ]
  }
 ],
 "metadata": {
  "kernelspec": {
   "display_name": "Python 3.7.10 ('base')",
   "language": "python",
   "name": "python3"
  },
  "language_info": {
   "codemirror_mode": {
    "name": "ipython",
    "version": 3
   },
   "file_extension": ".py",
   "mimetype": "text/x-python",
   "name": "python",
   "nbconvert_exporter": "python",
   "pygments_lexer": "ipython3",
   "version": "3.7.10"
  },
  "vscode": {
   "interpreter": {
    "hash": "40d3a090f54c6569ab1632332b64b2c03c39dcf918b08424e98f38b5ae0af88f"
   }
  }
 },
 "nbformat": 4,
 "nbformat_minor": 4
}
