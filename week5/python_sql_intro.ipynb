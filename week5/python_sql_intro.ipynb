{
 "cells": [
  {
   "cell_type": "markdown",
   "metadata": {},
   "source": [
    "<a href='https://ai.meng.duke.edu'> = <img align=\"left\" style=\"padding-top:10px;\" src=https://storage.googleapis.com/aipi_datasets/Duke-AIPI-Logo.png>"
   ]
  },
  {
   "cell_type": "markdown",
   "metadata": {},
   "source": [
    "# Working with SQLite Databases"
   ]
  },
  {
   "cell_type": "code",
   "execution_count": 1,
   "metadata": {},
   "outputs": [],
   "source": [
    "import sqlite3 as db\n",
    "import pandas as pd\n",
    "import numpy as np"
   ]
  },
  {
   "cell_type": "markdown",
   "metadata": {},
   "source": [
    "## Connecting to a database\n",
    "The sqlite engine maintains a database as a file; in the below example, the name of that file is `example.db`.\n",
    "If the named file does not yet exist, it will be created when this code is run. However, if the database has been created before, this same code will open it.  Once we open the database, we then create a 'cursor', which tracks the current state of the database.  We use the cursor to issue commands that modify or query the database."
   ]
  },
  {
   "cell_type": "code",
   "execution_count": 2,
   "metadata": {},
   "outputs": [],
   "source": [
    "# Connect to a database (or create one if it doesn't exist)\n",
    "conn = db.connect('example.db')\n",
    "\n",
    "# Create a 'cursor' for executing commands\n",
    "c = conn.cursor()"
   ]
  },
  {
   "cell_type": "markdown",
   "metadata": {},
   "source": [
    "## Adding data to tables\n",
    "The central object of a relational database is a _table_. A table has a similar form to a pandas DataFrame: observations as rows, features as columns. In the relational database world, we sometimes refer to rows as _items_ or _records_ and columns as _attributes_.\n",
    "\n",
    "Let's start by creating a table.  Suppose we would like to create a table within `example.db` to store information about Duke students, which includes three attributes: their Duke ID number, their name, and their expected graduation year.  We will create a table called `Students` to store this information."
   ]
  },
  {
   "cell_type": "code",
   "execution_count": 5,
   "metadata": {},
   "outputs": [
    {
     "data": {
      "text/plain": [
       "<sqlite3.Cursor at 0x7fd652a2e7a0>"
      ]
     },
     "execution_count": 5,
     "metadata": {},
     "output_type": "execute_result"
    }
   ],
   "source": [
    "# First check if the table already exists and if so we will delete it\n",
    "c.execute(\"DROP TABLE IF EXISTS Students\")\n",
    "\n",
    "# Create a table named \"Students\" with 3 columns: \"duke_id\" (string), \"name\" (string), \"grad_year\" (integer).\n",
    "c.execute(\"CREATE TABLE Students (duke_id INTEGER PRIMARY KEY, name TEXT, grad_year INTEGER)\")"
   ]
  },
  {
   "cell_type": "markdown",
   "metadata": {},
   "source": [
    "Let's now populate our table.  To add items to the table we use the command, [`INSERT INTO`](https://www.sqlite.org/lang_insert.html).  The format of the command is `\"INSERT INTO <table_name> VALUES <values>\"`"
   ]
  },
  {
   "cell_type": "code",
   "execution_count": 6,
   "metadata": {},
   "outputs": [],
   "source": [
    "# Commands to add data to our table\n",
    "c.execute(\"INSERT INTO Students VALUES ('121', 'Reifschneider', 2025)\")\n",
    "c.execute(\"INSERT INTO Students VALUES ('225', 'Egger', 2023)\")\n",
    "c.execute(\"INSERT INTO Students VALUES ('767', 'Lin', 2022)\")\n",
    "c.execute(\"INSERT INTO Students VALUES ('988', 'Saha', 2022)\")\n",
    "\n",
    "# Commit the changes (make them permanent in the datbase)\n",
    "conn.commit()"
   ]
  },
  {
   "cell_type": "markdown",
   "metadata": {},
   "source": [
    "Rather than adding one item at a time, we can use `executemany()` to add multiple items."
   ]
  },
  {
   "cell_type": "code",
   "execution_count": 7,
   "metadata": {},
   "outputs": [],
   "source": [
    "# List of items to add\n",
    "more_students = [('734', 'Fox', 2025),\n",
    "                 ('878', 'Lenz', 2023),\n",
    "                 ('267', 'Glass', 2023)]\n",
    "\n",
    "# '?' question marks are placeholders for the columns in Students table\n",
    "c.executemany('INSERT INTO Students VALUES (?, ?, ?)', more_students)\n",
    "conn.commit()"
   ]
  },
  {
   "cell_type": "markdown",
   "metadata": {},
   "source": [
    "## Basic queries\n",
    "The most common operation we perform on databases is to retrieve information from them using a 'query'.  We use SQL syntax to create queries, which you can read about [here](https://data36.com/wp-content/uploads/2018/12/sql-cheat-sheet-for-data-scientists-by-tomi-mester.pdf).\n",
    "\n",
    "The simplest form of a SQL query is `\"SELECT * FROM <table_name>\"` which will return all data from the table as entries in a list. Note: unless we know that our table is of reasonable size, we usually do not want to do \"SELECT * FROM\" because it may return a lot of data!"
   ]
  },
  {
   "cell_type": "code",
   "execution_count": 8,
   "metadata": {},
   "outputs": [
    {
     "name": "stdout",
     "output_type": "stream",
     "text": [
      "Results of the query: 7 \n",
      "The entries of Students:\n",
      " [(121, 'Reifschneider', 2025), (225, 'Egger', 2023), (267, 'Glass', 2023), (734, 'Fox', 2025), (767, 'Lin', 2022), (878, 'Lenz', 2023), (988, 'Saha', 2022)]\n"
     ]
    }
   ],
   "source": [
    "# Query to get all data from the Students table\n",
    "c.execute(\"SELECT * FROM Students\")\n",
    "results = c.fetchall()\n",
    "print(\"Results of the query:\", len(results), \"\\nThe entries of Students:\\n\", results)"
   ]
  },
  {
   "cell_type": "markdown",
   "metadata": {},
   "source": [
    "We can also create more complex queries using SQL which filter and/or sort the data."
   ]
  },
  {
   "cell_type": "code",
   "execution_count": 9,
   "metadata": {},
   "outputs": [
    {
     "name": "stdout",
     "output_type": "stream",
     "text": [
      "Results of the query: 3 \n",
      "The entries of Students:\n",
      " [(225, 'Egger', 2023), (267, 'Glass', 2023), (878, 'Lenz', 2023)]\n"
     ]
    }
   ],
   "source": [
    "# Query to get all students graduating in 2023\n",
    "c.execute(\"SELECT * FROM Students WHERE grad_year=2023\")\n",
    "results = c.fetchall()\n",
    "print(\"Results of the query:\", len(results), \"\\nThe entries of Students:\\n\", results)"
   ]
  },
  {
   "cell_type": "code",
   "execution_count": 10,
   "metadata": {},
   "outputs": [
    {
     "name": "stdout",
     "output_type": "stream",
     "text": [
      "Results of the query: 5 \n",
      "The entries of Students:\n",
      " [(225, 'Egger', 2023), (267, 'Glass', 2023), (878, 'Lenz', 2023), (767, 'Lin', 2022), (988, 'Saha', 2022)]\n"
     ]
    }
   ],
   "source": [
    "# Query to return students graduating before a certain year, ordered by last name\n",
    "grad_year = 2025\n",
    "query = f'''\n",
    "        SELECT * \n",
    "        FROM Students\n",
    "        WHERE grad_year < {grad_year}\n",
    "        ORDER BY Name\n",
    "        '''\n",
    "\n",
    "c.execute(query)\n",
    "results = c.fetchall()\n",
    "print(\"Results of the query:\", len(results), \"\\nThe entries of Students:\\n\", results)"
   ]
  },
  {
   "cell_type": "markdown",
   "metadata": {},
   "source": [
    "## Join queries\n",
    "The main type of query that combines information from multiple tables is the _join query_. There are four types of join queries:\n",
    "\n",
    "- `INNER JOIN(A, B)`: Keep rows of `A` and `B` only where `A` and `B` match\n",
    "- `OUTER JOIN(A, B)`: Keep all rows of `A` and `B`, but merge matching rows and fill in missing values with some default (`NaN` in Pandas, `NULL` in SQL)\n",
    "- `LEFT JOIN(A, B)`: Keep all rows of `A` but only merge matches from `B`.\n",
    "- `RIGHT JOIN(A, B)`: Keep all rows of `B` but only merge matches from `A`.\n",
    "\n",
    "If you are a visual person, see [this page](https://www.codeproject.com/Articles/33052/Visual-Representation-of-SQL-Joins) for illustrations of the different join types.\n",
    "\n",
    "Let's create a new table `Classes` which stores information on which classes each student has taken and their grade (on a 4.0 scale).  We will then run some join queries on both tables in our database."
   ]
  },
  {
   "cell_type": "code",
   "execution_count": 11,
   "metadata": {},
   "outputs": [
    {
     "name": "stdout",
     "output_type": "stream",
     "text": [
      "Your results: 13 \n",
      "The entries of Classes: [(121, 'AIPI 510', 3.7), (121, 'AIPI 520', 4.0), (121, 'AIPI 530', 3.3), (225, 'AIPI 510', 4.0), (225, 'AIPI 520', 3.3), (767, 'MENG 570', 3.0), (767, 'AIPI 510', 4.0), (988, 'MENG 570', 4.0), (988, 'AIPI 510', 3.7), (734, 'AIPI 510', 4.0), (734, 'AIPI 520', 4.0), (878, 'AIPI 510', 3.0), (878, 'AIPI 520', 4.0)]\n"
     ]
    }
   ],
   "source": [
    "# Create Classes table\n",
    "c.execute('DROP TABLE IF EXISTS Classes')\n",
    "c.execute('CREATE TABLE Classes (duke_id INTEGER, course TEXT, grade REAL, PRIMARY KEY(\"duke_id\",\"course\"))')\n",
    "\n",
    "students = [('121','AIPI 510',3.7),\n",
    "            ('121','AIPI 520',4.0),\n",
    "            ('121','AIPI 530',3.3),\n",
    "            ('225','AIPI 510',4.0),\n",
    "            ('225','AIPI 520',3.3),\n",
    "            ('767','MENG 570',3.0),\n",
    "            ('767','AIPI 510',4.0),\n",
    "            ('988','MENG 570',4.0),\n",
    "            ('988','AIPI 510',3.7),\n",
    "            ('734','AIPI 510',4.0),\n",
    "            ('734','AIPI 520',4.0),\n",
    "            ('878','AIPI 510',3.0),\n",
    "            ('878','AIPI 520',4.0)]\n",
    "\n",
    "c.executemany('INSERT INTO Classes VALUES (?,?,?)',students)\n",
    "conn.commit()\n",
    "\n",
    "# Displays the results of your code\n",
    "c.execute('SELECT * FROM Classes')\n",
    "results = c.fetchall()\n",
    "print(\"Your results:\", len(results), \"\\nThe entries of Classes:\", results)"
   ]
  },
  {
   "cell_type": "markdown",
   "metadata": {},
   "source": [
    "Let's now perform a couple join queries using our two tables. We will need to join them on the column they both share, which is the join key.  In this case both tables share the same column `duke_id`"
   ]
  },
  {
   "cell_type": "code",
   "execution_count": 12,
   "metadata": {},
   "outputs": [
    {
     "name": "stdout",
     "output_type": "stream",
     "text": [
      "('Reifschneider', 'AIPI 510', 3.7)\n",
      "('Reifschneider', 'AIPI 520', 4.0)\n",
      "('Reifschneider', 'AIPI 530', 3.3)\n",
      "('Egger', 'AIPI 510', 4.0)\n",
      "('Egger', 'AIPI 520', 3.3)\n",
      "('Lin', 'MENG 570', 3.0)\n",
      "('Lin', 'AIPI 510', 4.0)\n",
      "('Saha', 'MENG 570', 4.0)\n",
      "('Saha', 'AIPI 510', 3.7)\n",
      "('Fox', 'AIPI 510', 4.0)\n",
      "('Fox', 'AIPI 520', 4.0)\n",
      "('Lenz', 'AIPI 510', 3.0)\n",
      "('Lenz', 'AIPI 520', 4.0)\n"
     ]
    }
   ],
   "source": [
    "# Get all students including their name (from Students), courses taken and grades (from Classes)\n",
    "\n",
    "query = '''\n",
    "        SELECT Students.name, Classes.course, Classes.grade\n",
    "        FROM Students INNER JOIN Classes ON Students.duke_id = Classes.duke_id\n",
    "        '''\n",
    "\n",
    "c.execute(query)\n",
    "results = c.fetchall()\n",
    "for result in results:\n",
    "    print(result)"
   ]
  },
  {
   "cell_type": "code",
   "execution_count": 13,
   "metadata": {},
   "outputs": [
    {
     "name": "stdout",
     "output_type": "stream",
     "text": [
      "('Reifschneider', 3.7)\n",
      "('Egger', 4.0)\n",
      "('Lin', 4.0)\n",
      "('Saha', 3.7)\n",
      "('Fox', 4.0)\n",
      "('Lenz', 3.0)\n"
     ]
    }
   ],
   "source": [
    "# Get names and grades of all students who have taken AIPI510\n",
    "course_name = 'AIPI 510'\n",
    "query = f'''\n",
    "        SELECT Students.name, Classes.grade\n",
    "        FROM Students INNER JOIN Classes ON Students.duke_id = Classes.duke_id\n",
    "        WHERE Classes.course = '{course_name}'\n",
    "        '''\n",
    "c.execute(query)\n",
    "results = c.fetchall()\n",
    "for result in results:\n",
    "    print(result)"
   ]
  },
  {
   "cell_type": "markdown",
   "metadata": {},
   "source": [
    "Let's now look at what happens when we run a join query which has missing data in one of the tables."
   ]
  },
  {
   "cell_type": "code",
   "execution_count": 14,
   "metadata": {},
   "outputs": [
    {
     "name": "stdout",
     "output_type": "stream",
     "text": [
      "('Reifschneider', 'AIPI 510', 3.7)\n",
      "('Reifschneider', 'AIPI 520', 4.0)\n",
      "('Reifschneider', 'AIPI 530', 3.3)\n",
      "('Egger', 'AIPI 510', 4.0)\n",
      "('Egger', 'AIPI 520', 3.3)\n",
      "('Glass', None, None)\n",
      "('Fox', 'AIPI 510', 4.0)\n",
      "('Fox', 'AIPI 520', 4.0)\n",
      "('Lin', 'AIPI 510', 4.0)\n",
      "('Lin', 'MENG 570', 3.0)\n",
      "('Lenz', 'AIPI 510', 3.0)\n",
      "('Lenz', 'AIPI 520', 4.0)\n",
      "('Saha', 'AIPI 510', 3.7)\n",
      "('Saha', 'MENG 570', 4.0)\n"
     ]
    }
   ],
   "source": [
    "# Get all students including their name (from Students), courses taken and grades (from Classes)\n",
    "# We will use a left join this time\n",
    "\n",
    "query = '''\n",
    "        SELECT Students.name, Classes.course, Classes.grade\n",
    "        FROM Students LEFT JOIN Classes ON Students.duke_id = Classes.duke_id\n",
    "        '''\n",
    "\n",
    "c.execute(query)\n",
    "results = c.fetchall()\n",
    "for result in results:\n",
    "    print(result)"
   ]
  },
  {
   "cell_type": "markdown",
   "metadata": {},
   "source": [
    "As we can see above, student Glass is not included in the Classes table and so when we perform the left join, we have no data available for them for `course` and `grade`.  We can run it again and exclude students who do not have any grades"
   ]
  },
  {
   "cell_type": "code",
   "execution_count": 15,
   "metadata": {},
   "outputs": [
    {
     "name": "stdout",
     "output_type": "stream",
     "text": [
      "('Reifschneider', 'AIPI 510', 3.7)\n",
      "('Reifschneider', 'AIPI 520', 4.0)\n",
      "('Reifschneider', 'AIPI 530', 3.3)\n",
      "('Egger', 'AIPI 510', 4.0)\n",
      "('Egger', 'AIPI 520', 3.3)\n",
      "('Lin', 'MENG 570', 3.0)\n",
      "('Lin', 'AIPI 510', 4.0)\n",
      "('Saha', 'MENG 570', 4.0)\n",
      "('Saha', 'AIPI 510', 3.7)\n",
      "('Fox', 'AIPI 510', 4.0)\n",
      "('Fox', 'AIPI 520', 4.0)\n",
      "('Lenz', 'AIPI 510', 3.0)\n",
      "('Lenz', 'AIPI 520', 4.0)\n"
     ]
    }
   ],
   "source": [
    "# Get all students including their name (from Students), courses taken and grades (from Classes)\n",
    "# This time exclude students with no listed classes\n",
    "\n",
    "query = '''\n",
    "        SELECT Students.name, Classes.course, Classes.grade\n",
    "        FROM Students LEFT JOIN Classes ON Students.duke_id = Classes.duke_id\n",
    "        WHERE Classes.course is not null\n",
    "        '''\n",
    "\n",
    "c.execute(query)\n",
    "results = c.fetchall()\n",
    "for result in results:\n",
    "    print(result)"
   ]
  },
  {
   "cell_type": "markdown",
   "metadata": {},
   "source": [
    "## Aggregations\n",
    "Another common style of query is an aggregation, which is a summary of information across multiple records. Similar to pandas, we group the data using `GROUP BY` in the query and specify how we want to aggregate across records (e.g. take the mean or sum).  Useful SQL aggregators include `AVG`,`MIN`, `MAX`, `SUM`, and `COUNT`."
   ]
  },
  {
   "cell_type": "code",
   "execution_count": 16,
   "metadata": {},
   "outputs": [
    {
     "name": "stdout",
     "output_type": "stream",
     "text": [
      "('Egger', 3.65)\n",
      "('Fox', 4.0)\n",
      "('Lenz', 3.5)\n",
      "('Lin', 3.5)\n",
      "('Reifschneider', 3.6666666666666665)\n",
      "('Saha', 3.85)\n"
     ]
    }
   ],
   "source": [
    "# Calculate the average GPA of each student across all classes they have taken\n",
    "\n",
    "query = '''\n",
    "        SELECT Students.name, AVG(Classes.grade) \n",
    "        FROM Students INNER JOIN Classes ON Students.duke_id = Classes.duke_id\n",
    "        GROUP BY Students.name\n",
    "        '''\n",
    "\n",
    "c.execute(query)\n",
    "results = c.fetchall()\n",
    "for result in results:\n",
    "    print(result)"
   ]
  },
  {
   "cell_type": "code",
   "execution_count": 17,
   "metadata": {},
   "outputs": [
    {
     "name": "stdout",
     "output_type": "stream",
     "text": [
      "('Egger', 2)\n",
      "('Fox', 2)\n",
      "('Lenz', 2)\n",
      "('Lin', 2)\n",
      "('Reifschneider', 3)\n",
      "('Saha', 2)\n"
     ]
    }
   ],
   "source": [
    "# Get the count of how many classes each student has taken so far\n",
    "\n",
    "query = '''\n",
    "        SELECT Students.name, COUNT(Classes.course)\n",
    "        FROM Students INNER JOIN Classes ON Students.duke_id = Classes.duke_id\n",
    "        GROUP BY Students.name\n",
    "        '''\n",
    "\n",
    "c.execute(query)\n",
    "results = c.fetchall()\n",
    "for result in results:\n",
    "    print(result)"
   ]
  },
  {
   "cell_type": "markdown",
   "metadata": {},
   "source": [
    "## SQL and Pandas\n",
    "We can read SQL queries directly into pandas to create DataFrames of the results."
   ]
  },
  {
   "cell_type": "code",
   "execution_count": 18,
   "metadata": {},
   "outputs": [
    {
     "data": {
      "text/html": [
       "<div>\n",
       "<style scoped>\n",
       "    .dataframe tbody tr th:only-of-type {\n",
       "        vertical-align: middle;\n",
       "    }\n",
       "\n",
       "    .dataframe tbody tr th {\n",
       "        vertical-align: top;\n",
       "    }\n",
       "\n",
       "    .dataframe thead th {\n",
       "        text-align: right;\n",
       "    }\n",
       "</style>\n",
       "<table border=\"1\" class=\"dataframe\">\n",
       "  <thead>\n",
       "    <tr style=\"text-align: right;\">\n",
       "      <th></th>\n",
       "      <th>duke_id</th>\n",
       "      <th>name</th>\n",
       "      <th>grad_year</th>\n",
       "      <th>course</th>\n",
       "      <th>grade</th>\n",
       "    </tr>\n",
       "  </thead>\n",
       "  <tbody>\n",
       "    <tr>\n",
       "      <th>0</th>\n",
       "      <td>121</td>\n",
       "      <td>Reifschneider</td>\n",
       "      <td>2025</td>\n",
       "      <td>AIPI 510</td>\n",
       "      <td>3.7</td>\n",
       "    </tr>\n",
       "    <tr>\n",
       "      <th>1</th>\n",
       "      <td>121</td>\n",
       "      <td>Reifschneider</td>\n",
       "      <td>2025</td>\n",
       "      <td>AIPI 520</td>\n",
       "      <td>4.0</td>\n",
       "    </tr>\n",
       "    <tr>\n",
       "      <th>2</th>\n",
       "      <td>121</td>\n",
       "      <td>Reifschneider</td>\n",
       "      <td>2025</td>\n",
       "      <td>AIPI 530</td>\n",
       "      <td>3.3</td>\n",
       "    </tr>\n",
       "    <tr>\n",
       "      <th>3</th>\n",
       "      <td>225</td>\n",
       "      <td>Egger</td>\n",
       "      <td>2023</td>\n",
       "      <td>AIPI 510</td>\n",
       "      <td>4.0</td>\n",
       "    </tr>\n",
       "    <tr>\n",
       "      <th>4</th>\n",
       "      <td>225</td>\n",
       "      <td>Egger</td>\n",
       "      <td>2023</td>\n",
       "      <td>AIPI 520</td>\n",
       "      <td>3.3</td>\n",
       "    </tr>\n",
       "    <tr>\n",
       "      <th>5</th>\n",
       "      <td>767</td>\n",
       "      <td>Lin</td>\n",
       "      <td>2022</td>\n",
       "      <td>MENG 570</td>\n",
       "      <td>3.0</td>\n",
       "    </tr>\n",
       "    <tr>\n",
       "      <th>6</th>\n",
       "      <td>767</td>\n",
       "      <td>Lin</td>\n",
       "      <td>2022</td>\n",
       "      <td>AIPI 510</td>\n",
       "      <td>4.0</td>\n",
       "    </tr>\n",
       "    <tr>\n",
       "      <th>7</th>\n",
       "      <td>988</td>\n",
       "      <td>Saha</td>\n",
       "      <td>2022</td>\n",
       "      <td>MENG 570</td>\n",
       "      <td>4.0</td>\n",
       "    </tr>\n",
       "    <tr>\n",
       "      <th>8</th>\n",
       "      <td>988</td>\n",
       "      <td>Saha</td>\n",
       "      <td>2022</td>\n",
       "      <td>AIPI 510</td>\n",
       "      <td>3.7</td>\n",
       "    </tr>\n",
       "    <tr>\n",
       "      <th>9</th>\n",
       "      <td>734</td>\n",
       "      <td>Fox</td>\n",
       "      <td>2025</td>\n",
       "      <td>AIPI 510</td>\n",
       "      <td>4.0</td>\n",
       "    </tr>\n",
       "    <tr>\n",
       "      <th>10</th>\n",
       "      <td>734</td>\n",
       "      <td>Fox</td>\n",
       "      <td>2025</td>\n",
       "      <td>AIPI 520</td>\n",
       "      <td>4.0</td>\n",
       "    </tr>\n",
       "    <tr>\n",
       "      <th>11</th>\n",
       "      <td>878</td>\n",
       "      <td>Lenz</td>\n",
       "      <td>2023</td>\n",
       "      <td>AIPI 510</td>\n",
       "      <td>3.0</td>\n",
       "    </tr>\n",
       "    <tr>\n",
       "      <th>12</th>\n",
       "      <td>878</td>\n",
       "      <td>Lenz</td>\n",
       "      <td>2023</td>\n",
       "      <td>AIPI 520</td>\n",
       "      <td>4.0</td>\n",
       "    </tr>\n",
       "  </tbody>\n",
       "</table>\n",
       "</div>"
      ],
      "text/plain": [
       "    duke_id           name  grad_year    course  grade\n",
       "0       121  Reifschneider       2025  AIPI 510    3.7\n",
       "1       121  Reifschneider       2025  AIPI 520    4.0\n",
       "2       121  Reifschneider       2025  AIPI 530    3.3\n",
       "3       225          Egger       2023  AIPI 510    4.0\n",
       "4       225          Egger       2023  AIPI 520    3.3\n",
       "5       767            Lin       2022  MENG 570    3.0\n",
       "6       767            Lin       2022  AIPI 510    4.0\n",
       "7       988           Saha       2022  MENG 570    4.0\n",
       "8       988           Saha       2022  AIPI 510    3.7\n",
       "9       734            Fox       2025  AIPI 510    4.0\n",
       "10      734            Fox       2025  AIPI 520    4.0\n",
       "11      878           Lenz       2023  AIPI 510    3.0\n",
       "12      878           Lenz       2023  AIPI 520    4.0"
      ]
     },
     "execution_count": 18,
     "metadata": {},
     "output_type": "execute_result"
    }
   ],
   "source": [
    "# Get a dataframe with all data from Students and Classes tables\n",
    "query = '''\n",
    "        SELECT Students.duke_id, Students.name, Students.grad_year, Classes.course, Classes.grade\n",
    "        FROM Students INNER JOIN Classes ON Students.duke_id = Classes.duke_id\n",
    "        '''\n",
    "\n",
    "df = pd.read_sql_query (query, conn)\n",
    "df"
   ]
  },
  {
   "cell_type": "code",
   "execution_count": 19,
   "metadata": {},
   "outputs": [
    {
     "data": {
      "text/html": [
       "<div>\n",
       "<style scoped>\n",
       "    .dataframe tbody tr th:only-of-type {\n",
       "        vertical-align: middle;\n",
       "    }\n",
       "\n",
       "    .dataframe tbody tr th {\n",
       "        vertical-align: top;\n",
       "    }\n",
       "\n",
       "    .dataframe thead th {\n",
       "        text-align: right;\n",
       "    }\n",
       "</style>\n",
       "<table border=\"1\" class=\"dataframe\">\n",
       "  <thead>\n",
       "    <tr style=\"text-align: right;\">\n",
       "      <th></th>\n",
       "      <th>name</th>\n",
       "      <th>grad_year</th>\n",
       "      <th>gpa</th>\n",
       "    </tr>\n",
       "    <tr>\n",
       "      <th>duke_id</th>\n",
       "      <th></th>\n",
       "      <th></th>\n",
       "      <th></th>\n",
       "    </tr>\n",
       "  </thead>\n",
       "  <tbody>\n",
       "    <tr>\n",
       "      <th>225</th>\n",
       "      <td>Egger</td>\n",
       "      <td>2023</td>\n",
       "      <td>3.650000</td>\n",
       "    </tr>\n",
       "    <tr>\n",
       "      <th>734</th>\n",
       "      <td>Fox</td>\n",
       "      <td>2025</td>\n",
       "      <td>4.000000</td>\n",
       "    </tr>\n",
       "    <tr>\n",
       "      <th>878</th>\n",
       "      <td>Lenz</td>\n",
       "      <td>2023</td>\n",
       "      <td>3.500000</td>\n",
       "    </tr>\n",
       "    <tr>\n",
       "      <th>767</th>\n",
       "      <td>Lin</td>\n",
       "      <td>2022</td>\n",
       "      <td>3.500000</td>\n",
       "    </tr>\n",
       "    <tr>\n",
       "      <th>121</th>\n",
       "      <td>Reifschneider</td>\n",
       "      <td>2025</td>\n",
       "      <td>3.666667</td>\n",
       "    </tr>\n",
       "    <tr>\n",
       "      <th>988</th>\n",
       "      <td>Saha</td>\n",
       "      <td>2022</td>\n",
       "      <td>3.850000</td>\n",
       "    </tr>\n",
       "  </tbody>\n",
       "</table>\n",
       "</div>"
      ],
      "text/plain": [
       "                  name  grad_year       gpa\n",
       "duke_id                                    \n",
       "225              Egger       2023  3.650000\n",
       "734                Fox       2025  4.000000\n",
       "878               Lenz       2023  3.500000\n",
       "767                Lin       2022  3.500000\n",
       "121      Reifschneider       2025  3.666667\n",
       "988               Saha       2022  3.850000"
      ]
     },
     "execution_count": 19,
     "metadata": {},
     "output_type": "execute_result"
    }
   ],
   "source": [
    "# Get a dataframe of students, their graduation year and their GPA\n",
    "# Rename the average grade column to 'gpa' using AS\n",
    "query = '''\n",
    "        SELECT Students.duke_id, Students.name, Students.grad_year, AVG(Classes.grade) AS gpa\n",
    "        FROM Students INNER JOIN Classes ON Students.duke_id = Classes.duke_id\n",
    "        GROUP BY Students.name\n",
    "        '''\n",
    "\n",
    "df = pd.read_sql_query (query, conn,index_col='duke_id')\n",
    "df"
   ]
  },
  {
   "cell_type": "markdown",
   "metadata": {},
   "source": [
    "We can also save data directly from a pandas dataframe to a table in a sqlite database."
   ]
  },
  {
   "cell_type": "code",
   "execution_count": 20,
   "metadata": {},
   "outputs": [],
   "source": [
    "# Create dataframe of students' major\n",
    "majors_dict={'duke_id':['225','734','878','878','121','267'],\n",
    "             'major':['Biology','Finance','CS','AI','CS','Biology']}\n",
    "majors = pd.DataFrame(majors_dict)\n",
    "\n",
    "# Create table Majors from dataframe in example.db\n",
    "conn = db.connect('example.db')\n",
    "c = conn.cursor()\n",
    "c.execute(\"DROP TABLE IF EXISTS Majors\")\n",
    "majors.to_sql(name='Majors',con=conn,index=False)"
   ]
  },
  {
   "cell_type": "code",
   "execution_count": 21,
   "metadata": {},
   "outputs": [
    {
     "data": {
      "text/html": [
       "<div>\n",
       "<style scoped>\n",
       "    .dataframe tbody tr th:only-of-type {\n",
       "        vertical-align: middle;\n",
       "    }\n",
       "\n",
       "    .dataframe tbody tr th {\n",
       "        vertical-align: top;\n",
       "    }\n",
       "\n",
       "    .dataframe thead th {\n",
       "        text-align: right;\n",
       "    }\n",
       "</style>\n",
       "<table border=\"1\" class=\"dataframe\">\n",
       "  <thead>\n",
       "    <tr style=\"text-align: right;\">\n",
       "      <th></th>\n",
       "      <th>duke_id</th>\n",
       "      <th>major</th>\n",
       "    </tr>\n",
       "  </thead>\n",
       "  <tbody>\n",
       "    <tr>\n",
       "      <th>0</th>\n",
       "      <td>225</td>\n",
       "      <td>Biology</td>\n",
       "    </tr>\n",
       "    <tr>\n",
       "      <th>1</th>\n",
       "      <td>734</td>\n",
       "      <td>Finance</td>\n",
       "    </tr>\n",
       "    <tr>\n",
       "      <th>2</th>\n",
       "      <td>878</td>\n",
       "      <td>CS</td>\n",
       "    </tr>\n",
       "    <tr>\n",
       "      <th>3</th>\n",
       "      <td>878</td>\n",
       "      <td>AI</td>\n",
       "    </tr>\n",
       "    <tr>\n",
       "      <th>4</th>\n",
       "      <td>121</td>\n",
       "      <td>CS</td>\n",
       "    </tr>\n",
       "    <tr>\n",
       "      <th>5</th>\n",
       "      <td>267</td>\n",
       "      <td>Biology</td>\n",
       "    </tr>\n",
       "  </tbody>\n",
       "</table>\n",
       "</div>"
      ],
      "text/plain": [
       "  duke_id    major\n",
       "0     225  Biology\n",
       "1     734  Finance\n",
       "2     878       CS\n",
       "3     878       AI\n",
       "4     121       CS\n",
       "5     267  Biology"
      ]
     },
     "execution_count": 21,
     "metadata": {},
     "output_type": "execute_result"
    }
   ],
   "source": [
    "# We can now query our new table\n",
    "df = pd.read_sql_query (\"SELECT * FROM Majors\", conn)\n",
    "df"
   ]
  }
 ],
 "metadata": {
  "kernelspec": {
   "display_name": "Python 3.9.7 ('aipi540')",
   "language": "python",
   "name": "python3"
  },
  "language_info": {
   "codemirror_mode": {
    "name": "ipython",
    "version": 3
   },
   "file_extension": ".py",
   "mimetype": "text/x-python",
   "name": "python",
   "nbconvert_exporter": "python",
   "pygments_lexer": "ipython3",
   "version": "3.9.7"
  },
  "vscode": {
   "interpreter": {
    "hash": "31cc86d7aac4849c7546154c9b56d60163d5e8a1d83593a5eed18774fbf4fd37"
   }
  }
 },
 "nbformat": 4,
 "nbformat_minor": 4
}
