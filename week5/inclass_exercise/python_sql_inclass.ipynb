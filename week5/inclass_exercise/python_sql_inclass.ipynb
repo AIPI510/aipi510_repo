{
 "cells": [
  {
   "cell_type": "markdown",
   "metadata": {},
   "source": [
    "<a href='https://ai.meng.duke.edu'> = <img align=\"left\" style=\"padding-top:10px;\" src=https://storage.googleapis.com/aipi_datasets/Duke-AIPI-Logo.png>"
   ]
  },
  {
   "cell_type": "markdown",
   "metadata": {},
   "source": [
    "# SQLite In-Class Exercise"
   ]
  },
  {
   "cell_type": "code",
   "execution_count": null,
   "metadata": {},
   "outputs": [],
   "source": [
    "import sqlite3 as db\n",
    "import pandas as pd\n",
    "import numpy as np"
   ]
  },
  {
   "cell_type": "code",
   "execution_count": null,
   "metadata": {},
   "outputs": [],
   "source": [
    "# Connect to a database (or create one if it doesn't exist)\n",
    "conn = db.connect('example.db')\n",
    "\n",
    "# Create a 'cursor' for executing commands\n",
    "c = conn.cursor()\n",
    "\n",
    "# First check if the table already exists and if so we will delete it\n",
    "c.execute(\"DROP TABLE IF EXISTS Students\")\n",
    "\n",
    "# Create a table named \"Students\" with 3 columns: \"duke_id\" (string), \"name\" (string), \"grad_year\" (integer).\n",
    "c.execute(\"CREATE TABLE Students (duke_id INTEGER PRIMARY KEY, name TEXT, grad_year INTEGER)\")\n",
    "\n",
    "# Commands to add data to our table\n",
    "c.execute(\"INSERT INTO Students VALUES ('121', 'Reifschneider', 2025)\")\n",
    "c.execute(\"INSERT INTO Students VALUES ('225', 'Egger', 2023)\")\n",
    "c.execute(\"INSERT INTO Students VALUES ('767', 'Lin', 2022)\")\n",
    "c.execute(\"INSERT INTO Students VALUES ('988', 'Saha', 2022)\")\n",
    "\n",
    "# Commit the changes (make them permanent in the datbase)\n",
    "conn.commit()\n",
    "\n",
    "# List of items to add\n",
    "more_students = [('734', 'Fox', 2025),\n",
    "                 ('878', 'Lenz', 2023),\n",
    "                 ('267', 'Glass', 2023)]\n",
    "\n",
    "# '?' question marks are placeholders for the columns in Students table\n",
    "c.executemany('INSERT INTO Students VALUES (?, ?, ?)', more_students)\n",
    "conn.commit()\n",
    "\n",
    "# Create Classes table\n",
    "c.execute('DROP TABLE IF EXISTS Classes')\n",
    "c.execute('CREATE TABLE Classes (duke_id INTEGER, course TEXT, grade REAL, PRIMARY KEY(\"duke_id\",\"course\"))')\n",
    "\n",
    "students = [('121','AIPI 510',3.7),\n",
    "            ('121','AIPI 520',4.0),\n",
    "            ('121','AIPI 530',3.3),\n",
    "            ('225','AIPI 510',4.0),\n",
    "            ('225','AIPI 520',3.3),\n",
    "            ('767','MENG 570',3.0),\n",
    "            ('767','AIPI 510',4.0),\n",
    "            ('988','MENG 570',4.0),\n",
    "            ('988','AIPI 510',3.7),\n",
    "            ('734','AIPI 510',4.0),\n",
    "            ('734','AIPI 520',4.0),\n",
    "            ('878','AIPI 510',3.0),\n",
    "            ('878','AIPI 520',4.0)]\n",
    "\n",
    "c.executemany('INSERT INTO Classes VALUES (?,?,?)',students)\n",
    "conn.commit()\n",
    "\n",
    "# Displays the results of your code\n",
    "c.execute('SELECT * FROM Classes')\n",
    "results = c.fetchall()\n",
    "print(\"Your results:\", len(results), \"\\nThe entries of Classes:\", results)\n",
    "\n",
    "# Create dataframe of students' major\n",
    "majors_dict={'duke_id':['225','734','767','878','121','267'],\n",
    "             'major':['Biology','Finance','CS','AI','CS','Biology']}\n",
    "majors = pd.DataFrame(majors_dict)\n",
    "\n",
    "# Create table Majors from dataframe in example.db\n",
    "conn = db.connect('example.db')\n",
    "c = conn.cursor()\n",
    "c.execute(\"DROP TABLE IF EXISTS Majors\")\n",
    "majors.to_sql(name='Majors',con=conn,index=False)"
   ]
  },
  {
   "cell_type": "markdown",
   "metadata": {},
   "source": [
    "## Practice problems\n",
    "### Question 1\n",
    "Complete the below function to calculate the average GPA for students from each major.  The function should return a list of tuples containing the major and corresponding average gpa"
   ]
  },
  {
   "cell_type": "code",
   "execution_count": null,
   "metadata": {},
   "outputs": [],
   "source": [
    "def avg_gpa_by_major(db_name):  \n",
    "    '''\n",
    "    Calculates the average GPA for students from each major\n",
    "\n",
    "    Inputs:\n",
    "        db_name(str): name of the database\n",
    "\n",
    "    Returns:\n",
    "        results(list): list of tuples each containing the major (str) and the average GPA (float)\n",
    "    '''\n",
    "    ### BEGIN SOLUTION ###\n",
    "    \n",
    "    \n",
    "    ### END SOLUTION ###"
   ]
  },
  {
   "cell_type": "code",
   "execution_count": null,
   "metadata": {},
   "outputs": [],
   "source": [
    "# Run function\n",
    "gpas = avg_gpa_by_major('example.db')\n",
    "assert len(gpas) == 4\n",
    "assert len(gpas[0]) == 2\n",
    "gpas"
   ]
  },
  {
   "cell_type": "markdown",
   "metadata": {},
   "source": [
    "### Question 2\n",
    "Complete the function below which returns a **pandas dataframe** containing the Duke ID (as the index), name, graduation year, major (or None if not declared), and GPA of all students who have taken classes."
   ]
  },
  {
   "cell_type": "code",
   "execution_count": null,
   "metadata": {},
   "outputs": [],
   "source": [
    "def all_students(db_name):\n",
    "    '''\n",
    "    Queries database to create a dataframe containing name, graduation, major and GPA of all students who have taken 1+ classes\n",
    "\n",
    "    Inputs:\n",
    "        db_name(str): name of database\n",
    "\n",
    "    Returns:\n",
    "        df(DataFrame): dataframe containing student names as index and their graduation year, major and GPA as columns\n",
    "    '''\n",
    "    ### BEGIN SOLUTION ###\n",
    "    \n",
    "    \n",
    "    ### END SOLUTION ###"
   ]
  },
  {
   "cell_type": "code",
   "execution_count": null,
   "metadata": {},
   "outputs": [],
   "source": [
    "# Run function\n",
    "students_table = all_students('example.db')\n",
    "assert students_table.shape == (6,4)\n",
    "students_table"
   ]
  },
  {
   "cell_type": "markdown",
   "metadata": {},
   "source": [
    "### Question 3\n",
    "Complete the below function to create a pandas dataframe where the index values are the courses, the columns are the majors, and the cells show the number of students from each major in each course.  Your output should look like this:  \n",
    "<img align=\"left\" style=\"padding-top:10px;\" src=Q3.png>"
   ]
  },
  {
   "cell_type": "code",
   "execution_count": null,
   "metadata": {},
   "outputs": [],
   "source": [
    "def majors_per_course(db_name):  \n",
    "    '''\n",
    "    Query the database to build a dataframe containing the number of students from each major in each course\n",
    "\n",
    "    Inputs:\n",
    "        db_name(str): name of the database\n",
    "\n",
    "    Returns:\n",
    "        df(DataFrame): dataframe with courses as index values and majors as the columns which contains the count of each major in each course\n",
    "    '''\n",
    "    ### BEGIN SOLUTION ###\n",
    "    \n",
    "    \n",
    "    ### END SOLUTION ###"
   ]
  },
  {
   "cell_type": "code",
   "execution_count": null,
   "metadata": {},
   "outputs": [],
   "source": [
    "table = majors_per_course('example.db')\n",
    "display(table)\n",
    "assert table.shape == (4,4)"
   ]
  }
 ],
 "metadata": {
  "kernelspec": {
   "display_name": "Python 3.9.7 ('aipi540')",
   "language": "python",
   "name": "python3"
  },
  "language_info": {
   "codemirror_mode": {
    "name": "ipython",
    "version": 3
   },
   "file_extension": ".py",
   "mimetype": "text/x-python",
   "name": "python",
   "nbconvert_exporter": "python",
   "pygments_lexer": "ipython3",
   "version": "3.9.7"
  },
  "vscode": {
   "interpreter": {
    "hash": "31cc86d7aac4849c7546154c9b56d60163d5e8a1d83593a5eed18774fbf4fd37"
   }
  }
 },
 "nbformat": 4,
 "nbformat_minor": 4
}
