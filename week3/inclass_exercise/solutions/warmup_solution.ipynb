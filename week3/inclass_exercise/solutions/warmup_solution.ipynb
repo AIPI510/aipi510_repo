{
 "cells": [
  {
   "cell_type": "markdown",
   "metadata": {
    "nbgrader": {
     "grade": false,
     "grade_id": "cell-9f16b05385ed5d48",
     "locked": true,
     "schema_version": 3,
     "solution": false,
     "task": false
    }
   },
   "source": [
    "<a href='https://ai.meng.duke.edu'> = <img align=\"left\" style=\"padding-top:10px;\" src=https://storage.googleapis.com/aipi_datasets/Duke-AIPI-Logo.png>"
   ]
  },
  {
   "cell_type": "markdown",
   "metadata": {
    "nbgrader": {
     "grade": false,
     "grade_id": "cell-1179e47adce63631",
     "locked": true,
     "schema_version": 3,
     "solution": false,
     "task": false
    }
   },
   "source": [
    "# In-class Warmup Exercise\n",
    "### Question 1\n",
    "Let's start with a warmup exercise using just Python.  We are going to perform some basic analysis of the stock price for a fictional company NewCo.  Let's suppose we receive some data on the last 10 days of NewCo's stock price.  The data is in the form of a dictionary 'newco_dict' where the keys are ['DATE','LOW','HIGH','CLOSE'].  'DATE' contains a list of string dates. 'LOW' and 'HIGH' each contain a list of the lowest price and highest price respectively of the stock during each day in the 10-day period. 'CLOSE' contains a list of the closing price of the stock at the end of each day during the 10-day period.\n",
    "\n",
    "For example, newco_dict might look like the following:  \n",
    "\n",
    "```\n",
    "newco_dict = {'DATE':['06-14-21','06-15-21','06-16-21','06-17-21','06-18-21',\n",
    "                      '06-21-21','06-22-21','06-23-21','06-24-21','06-25-21'],\n",
    "              'LOW':[80,72,70,74,82,88,94,88,73,67],\n",
    "              'HIGH':[95,81,76,88,90,96,102,94,90,72],\n",
    "              'CLOSE':[90,75,75,86,90,93,100,91,75,68]}\n",
    "```\n",
    "\n",
    "Our goal in this assignment will be to find all the dates during the 10-day period when the closing price of the stock was equal to the mode (most frequent) value of the closing prices over the 10-day period.  We are going to tackle this in two parts.  First we will create a function to find the mode of the closing prices.  In part 2 we will then create a function to identify the dates on which the closing price was equal to the mode.\n",
    "\n",
    "\n",
    "NOTE: For all parts of Question 1, you may not import any additional libraries - I would like you to solve these using only the Python you have learned so far and no helper libraries unless already imported for you. \n",
    "\n",
    "#### Question 1.1\n",
    "Let's first define a function `most_freq_closing(price_dict)` which takes as input a dictionary of prices in the form of 'newco_dict' and returns the most frequent closing price (the mode of the closing prices) during the period as an integer.  You may assume that the dictionary is non-empty and that there is a single mode price (in real life, some datasets may have no mode, if all elements are represented equally as often, or may have more than one mode).\n",
    "\n",
    "There are many ways to approach this problem.  One method (although there are others) might be to iterate through the set of the unique closing values and count how often each one appears during the 10 days.  The mode is the one that appears most frequently (has the highest count of appearances).  \n",
    "\n",
    "How you structure your solution is up to you, although you must complete the `most_freq_closing` function below.  You may include all your solution code within that function or break sub-tasks out into separate smaller functions (which you can insert into the same cell or add a new cell)."
   ]
  },
  {
   "cell_type": "code",
   "execution_count": 5,
   "metadata": {
    "nbgrader": {
     "grade": false,
     "grade_id": "cell-c61d21d175f8cc1a",
     "locked": false,
     "schema_version": 3,
     "solution": true,
     "task": false
    }
   },
   "outputs": [],
   "source": [
    "def most_freq_closing(price_dict):\n",
    "    '''\n",
    "    Finds the most frequent closing price of a stock\n",
    "\n",
    "    Inputs:\n",
    "        price_dict(dict): Dictionary containing DATE, LOW, HIGH, CLOSE prices for an arbitrary number of days\n",
    "\n",
    "    Returns:\n",
    "        mode_val(int): Most frequent closing price\n",
    "    '''\n",
    "    ### BEGIN SOLUTION ###\n",
    "    # Identifies the mode of the stock closing prices\n",
    "    count_dict = {}\n",
    "    # Iterate through set of unique closing prices and count occurrence of each\n",
    "    for val in price_dict['CLOSE']:\n",
    "        if val in count_dict.keys():\n",
    "            count_dict[val] += 1\n",
    "        else:\n",
    "            count_dict[val] = 1\n",
    "    max_count = max(count_dict.values())\n",
    "    # Get the closing price corresponding to the max count\n",
    "    for key in count_dict.keys():\n",
    "        if count_dict[key] == max_count:\n",
    "            mode_val = key\n",
    "    return mode_val\n",
    "    ## END SOLUTION ### "
   ]
  },
  {
   "cell_type": "code",
   "execution_count": 6,
   "metadata": {
    "nbgrader": {
     "grade": true,
     "grade_id": "cell-1e5d837902352889",
     "locked": true,
     "points": 1,
     "schema_version": 3,
     "solution": false,
     "task": false
    }
   },
   "outputs": [
    {
     "name": "stdout",
     "output_type": "stream",
     "text": [
      "Your function calculated the most frequent price as 75\n",
      "\n",
      "(Passed visible tests!)\n",
      "\n",
      "(Passed hidden tests!)\n"
     ]
    }
   ],
   "source": [
    "# `most_freq_closing()`: test cell\n",
    "newco_dict = {'DATE':['06-14-21','06-15-21','06-16-21','06-17-21','06-18-21',\n",
    "                      '06-21-21','06-22-21','06-23-21','06-24-21','06-25-21'],\n",
    "              'LOW':[80,72,70,74,82,88,94,88,73,67],\n",
    "              'HIGH':[95,81,76,88,90,96,102,94,90,72],\n",
    "              'CLOSE':[90,75,75,86,90,93,100,91,75,68]}\n",
    "mode_price = most_freq_closing(newco_dict)\n",
    "print(f'Your function calculated the most frequent price as {mode_price}')\n",
    "assert type(mode_price) == int, 'Your function did not return an integer'\n",
    "assert mode_price == 75,'Incorrect, check your function and try again'\n",
    "print('\\n(Passed visible tests!)')\n",
    "\n",
    "### BEGIN HIDDEN TESTS\n",
    "newco_dict2 = {'DATE':['06-14-21','06-15-21','06-16-21','06-17-21','06-18-21',\n",
    "                      '06-21-21','06-22-21','06-23-21','06-24-21','06-25-21'],\n",
    "              'LOW':[80,72,70,74,82,88,94,88,73,67],\n",
    "              'HIGH':[95,81,76,88,90,96,102,94,90,72],\n",
    "              'CLOSE':[90,74,90,86,90,93,100,91,75,68]}\n",
    "mode_price = most_freq_closing(newco_dict2)\n",
    "assert type(mode_price) == int, 'Your function did not return an integer'\n",
    "assert mode_price == 90,'Incorrect, check your function and try again'\n",
    "print('\\n(Passed hidden tests!)')\n",
    "### END HIDDEN TESTS"
   ]
  },
  {
   "cell_type": "markdown",
   "metadata": {
    "nbgrader": {
     "grade": false,
     "grade_id": "cell-8bbcac4f70cce636",
     "locked": true,
     "schema_version": 3,
     "solution": false,
     "task": false
    }
   },
   "source": [
    "#### Question 1.2\n",
    "Let's now make use of our new function `most_freq_closing` to find all dates on which the most frequent closing price occurred.  Write a new function `dates_most_freq_closing(price_dict)` which finds and returns the dates on which the most frequent (mode) closing price occurs.  The input to the function is a dictionary of the form of `newco_dict` and the output is a **list** of dates.  Your function should make use of the function `most_freq_closing()` that you just wrote to find the mode closing price, and then you should find all dates on which it occurs."
   ]
  },
  {
   "cell_type": "code",
   "execution_count": 7,
   "metadata": {
    "nbgrader": {
     "grade": false,
     "grade_id": "cell-2f9bc10ff3889fa4",
     "locked": false,
     "schema_version": 3,
     "solution": true,
     "task": false
    }
   },
   "outputs": [],
   "source": [
    "def dates_most_freq_closing(price_dict):\n",
    "    '''\n",
    "    Finds the dates on which the closing price is the mode of the time period of the data proved as an input\n",
    "\n",
    "    Inputs:\n",
    "        price_dict(dict): Dictionary containing DATE, LOW, HIGH, CLOSE prices for an arbitrary number of days\n",
    "\n",
    "    Returns:\n",
    "        dates(list): List of dates on which the close price is the mode\n",
    "    '''\n",
    "    # Returns a list of dates on which the stock closing price was equal to the mode\n",
    "    ### BEGIN SOLUTION ### \n",
    "    # Get the mode of the closing prices\n",
    "    mode_price = most_freq_closing(price_dict)\n",
    "    # Find the index values of the list of closing prices where the closing prices equals mode\n",
    "    idxs = [i for i,value in enumerate(price_dict['CLOSE']) if value==mode_price]\n",
    "    # Use the index values to get the dates at those index values when closing price equals mode\n",
    "    dates = [price_dict['DATE'][i] for i in idxs]\n",
    "    return dates\n",
    "    ### END SOLUTION ###"
   ]
  },
  {
   "cell_type": "code",
   "execution_count": 8,
   "metadata": {
    "nbgrader": {
     "grade": true,
     "grade_id": "cell-2dddb819d9fe493a",
     "locked": true,
     "points": 1,
     "schema_version": 3,
     "solution": false,
     "task": false
    }
   },
   "outputs": [
    {
     "name": "stdout",
     "output_type": "stream",
     "text": [
      "Your function returned the dates: ['06-15-21', '06-16-21', '06-24-21']\n",
      "\n",
      "(Passed visible tests!)\n"
     ]
    }
   ],
   "source": [
    "# `dates_most_freq_closing()`: test cell\n",
    "newco_dict = {'DATE':['06-14-21','06-15-21','06-16-21','06-17-21','06-18-21',\n",
    "                      '06-21-21','06-22-21','06-23-21','06-24-21','06-25-21'],\n",
    "              'LOW':[80,72,70,74,82,88,94,88,73,67],\n",
    "              'HIGH':[95,81,76,88,90,96,102,94,90,72],\n",
    "              'CLOSE':[90,75,75,86,90,93,100,91,75,68]}\n",
    "\n",
    "# Check that dates_most_freq_closing uses most_freq_closing\n",
    "orig_most_freq_closing = most_freq_closing\n",
    "del most_freq_closing\n",
    "try:\n",
    "    dates_most_freq_closing(newco_dict)\n",
    "except NameError:\n",
    "    pass\n",
    "else:\n",
    "    raise AssertionError(\"dates_most_freq_closing does not use most_freq_closing\")\n",
    "finally:\n",
    "    most_freq_closing = orig_most_freq_closing\n",
    "    \n",
    "# Check output\n",
    "dates = dates_most_freq_closing(newco_dict)\n",
    "print(f'Your function returned the dates: {dates}')\n",
    "assert type(dates) == list, 'Your function did not return a list of dates'\n",
    "assert type(dates[0] == str), 'The values in your list are not strings'\n",
    "assert dates == ['06-15-21', '06-16-21', '06-24-21'], 'Incorrect, check your function and try again'\n",
    "print('\\n(Passed visible tests!)')"
   ]
  },
  {
   "cell_type": "markdown",
   "metadata": {},
   "source": [
    "### Question 2\n",
    "#### Question 2.1\n",
    "Let's first define a function `most_freq_closing(price_dict)` which takes as input a dictionary of prices in the form of 'newco_dict' and returns the most frequent closing price (the mode of the closing prices) during the period as an integer.  You may assume that the dictionary is non-empty and that there is a single mode price (in real life, some datasets may have no mode, if all elements are represented equally as often, or may have more than one mode).\n",
    "\n",
    "NOTE: for this problem you MUST use the NumPy library, which I have imported above (make sure you already have NumPy installed - if not first follow the instructions in the setup.md document in the Module 2 Introduction section of Sakai).  **You should not use any loops (including list comprehensions) in your solution.**\n",
    "\n",
    "One solution might be to count the occurrences of each unique closing value during the period, and the find the closing value with the highest count of occurences.  You can do these steps using NumPy without any loops.  There are multiple ways to solve this.  You may include all your code in the `most_freq_closing` function below or you may choose to add additional functions for each sub-task which are then called by `most_freq_closing`."
   ]
  },
  {
   "cell_type": "code",
   "execution_count": 11,
   "metadata": {
    "nbgrader": {
     "grade": false,
     "grade_id": "cell-bef5a9af5abd959c",
     "locked": false,
     "schema_version": 3,
     "solution": true,
     "task": false
    }
   },
   "outputs": [],
   "source": [
    "import numpy as np\n",
    "\n",
    "def most_freq_closing(price_dict):\n",
    "    '''\n",
    "    Finds the most frequent closing price of a stock\n",
    "\n",
    "    Inputs:\n",
    "        price_dict(dict): Dictionary containing DATE, LOW, HIGH, CLOSE prices for an arbitrary number of days\n",
    "\n",
    "    Returns:\n",
    "        mode_val(int): Most frequent closing price\n",
    "    '''\n",
    "    ### BEGIN SOLUTION ###\n",
    "    # Convert closing prices to an array\n",
    "    closing_array = np.array(price_dict['CLOSE'])\n",
    "    # Get the unique values and value counts of each\n",
    "    uniq_vals, counts = np.unique(closing_array,return_counts=True)\n",
    "    mode_idx = np.argmax(counts)\n",
    "    mode_val = uniq_vals[mode_idx]\n",
    "    return int(mode_val)\n",
    "    ### END SOLUTION ###"
   ]
  },
  {
   "cell_type": "code",
   "execution_count": 12,
   "metadata": {
    "nbgrader": {
     "grade": true,
     "grade_id": "cell-4f25961edf86ff8d",
     "locked": true,
     "points": 1,
     "schema_version": 3,
     "solution": false,
     "task": false
    }
   },
   "outputs": [
    {
     "name": "stdout",
     "output_type": "stream",
     "text": [
      "Your function calculated the most frequent price as 75\n",
      "\n",
      "(Passed visible tests!)\n",
      "Your function calculated the most frequent price as 90\n",
      "\n",
      "(Passed hidden tests!)\n"
     ]
    }
   ],
   "source": [
    "# `most_freq_closing()`: test cell\n",
    "newco_dict = {'DATE':['06-14-21','06-15-21','06-16-21','06-17-21','06-18-21',\n",
    "                      '06-21-21','06-22-21','06-23-21','06-24-21','06-25-21'],\n",
    "              'LOW':[80,72,70,74,82,88,94,88,73,67],\n",
    "              'HIGH':[95,81,76,88,90,96,102,94,90,72],\n",
    "              'CLOSE':[90,75,75,86,90,93,100,91,75,68]}\n",
    "mode_price = most_freq_closing(newco_dict)\n",
    "print(f'Your function calculated the most frequent price as {mode_price}')\n",
    "assert type(mode_price) == int, 'Your function did not return an integer'\n",
    "assert mode_price == 75,'Incorrect, check your function and try again'\n",
    "print('\\n(Passed visible tests!)')\n",
    "\n",
    "### BEGIN HIDDEN TESTS\n",
    "newco_dict2 = {'DATE':['06-14-21','06-15-21','06-16-21','06-17-21','06-18-21',\n",
    "                      '06-21-21','06-22-21','06-23-21','06-24-21','06-25-21'],\n",
    "              'LOW':[80,72,70,74,82,88,94,88,73,67],\n",
    "              'HIGH':[95,81,76,88,90,96,102,94,90,72],\n",
    "              'CLOSE':[90,75,90,86,90,93,100,91,75,68]}\n",
    "mode_price = most_freq_closing(newco_dict2)\n",
    "print(f'Your function calculated the most frequent price as {mode_price}')\n",
    "assert type(mode_price) == int, 'Your function did not return an integer'\n",
    "assert mode_price == 90,'Incorrect, check your function and try again'\n",
    "print('\\n(Passed hidden tests!)')\n",
    "### END HIDDEN TESTS"
   ]
  },
  {
   "cell_type": "markdown",
   "metadata": {
    "nbgrader": {
     "grade": false,
     "grade_id": "cell-2a4ee9331839c7de",
     "locked": true,
     "schema_version": 3,
     "solution": false,
     "task": false
    }
   },
   "source": [
    "#### Question 2.2\n",
    "Let's now make use of our new function `most_freq_closing` to find all dates on which the most frequent closing price occurred.  Write a new function `dates_most_freq_closing(price_dict)` which finds and returns the dates on which the most frequent (mode) closing price occurs.  The input to the function is a dictionary of the form of `newco_dict` and the output is a **list** of dates.  Your function should make use of the function `most_freq_closing()` that you just wrote to find the mode closing price, and then you should find all dates on which it occurs.\n",
    "\n",
    "NOTE: for this problem you MUST use the NumPy library, which I have imported above (make sure you already have NumPy installed - if not first follow the instructions in the setup.md document in the Module 2 Introduction section of Sakai).  You MAY NOT use any loops (including list comprehensions) in your solution.\n",
    "\n",
    "Hint (only read if you need it, otherwise skip!):  \n",
    "- You might find it helpful to filter an array of the closing prices to those which match the most frequent price, and then use the resulting Boolean mask (see example in demo notebook) to filter the dates"
   ]
  },
  {
   "cell_type": "code",
   "execution_count": 13,
   "metadata": {},
   "outputs": [],
   "source": [
    "def dates_most_freq_closing(price_dict):\n",
    "    '''\n",
    "    Finds the dates on which the closing price is the mode of the time period of the data proved as an input\n",
    "\n",
    "    Inputs:\n",
    "        price_dict(dict): Dictionary containing DATE, LOW, HIGH, CLOSE prices for an arbitrary number of days\n",
    "\n",
    "    Returns:\n",
    "        dates(list): List of dates on which the close price is the mode\n",
    "    '''\n",
    "    ### BEGIN SOLUTION ###\n",
    "    # Get the most frequent closing price\n",
    "    mode_price = most_freq_closing(price_dict)\n",
    "    # Create a boolean mask of when the closing price equals the mode\n",
    "    bool_mask = np.array(newco_dict['CLOSE']) == mode_price\n",
    "    # Apply the boolean mask to the dates to get the dates on which the closing price equals mode\n",
    "    dates_array = np.array(newco_dict['DATE'])[bool_mask]\n",
    "    \n",
    "    # Return the values as a list\n",
    "    return dates_array.tolist()\n",
    "    ### END SOLUTION ###"
   ]
  },
  {
   "cell_type": "code",
   "execution_count": 14,
   "metadata": {},
   "outputs": [
    {
     "name": "stdout",
     "output_type": "stream",
     "text": [
      "Your function returned the dates: ['06-15-21', '06-16-21', '06-24-21']\n",
      "\n",
      "(Passed visible tests!)\n"
     ]
    }
   ],
   "source": [
    "# `dates_most_freq_closing()`: test cell\n",
    "newco_dict = {'DATE':['06-14-21','06-15-21','06-16-21','06-17-21','06-18-21',\n",
    "                      '06-21-21','06-22-21','06-23-21','06-24-21','06-25-21'],\n",
    "              'LOW':[80,72,70,74,82,88,94,88,73,67],\n",
    "              'HIGH':[95,81,76,88,90,96,102,94,90,72],\n",
    "              'CLOSE':[90,75,75,86,90,93,100,91,75,68]}\n",
    "\n",
    "# Check that dates_most_freq_closing uses most_freq_closing\n",
    "orig_most_freq_closing = most_freq_closing\n",
    "del most_freq_closing\n",
    "try:\n",
    "    dates_most_freq_closing(newco_dict)\n",
    "except NameError:\n",
    "    pass\n",
    "else:\n",
    "    raise AssertionError(\"dates_most_freq_closing does not use most_freq_closing\")\n",
    "finally:\n",
    "    most_freq_closing = orig_most_freq_closing\n",
    "    \n",
    "# Check output\n",
    "dates = dates_most_freq_closing(newco_dict)\n",
    "print(f'Your function returned the dates: {dates}')\n",
    "assert type(dates) == list, 'Your function did not return a list of dates'\n",
    "assert type(dates[0] == str), 'The values in your list are not strings'\n",
    "assert dates == ['06-15-21', '06-16-21', '06-24-21'], 'Incorrect, check your function and try again'\n",
    "print('\\n(Passed visible tests!)')"
   ]
  }
 ],
 "metadata": {
  "celltoolbar": "Create Assignment",
  "kernelspec": {
   "display_name": "Python 3.9.7 ('aipi540')",
   "language": "python",
   "name": "python3"
  },
  "language_info": {
   "codemirror_mode": {
    "name": "ipython",
    "version": 3
   },
   "file_extension": ".py",
   "mimetype": "text/x-python",
   "name": "python",
   "nbconvert_exporter": "python",
   "pygments_lexer": "ipython3",
   "version": "3.9.7"
  },
  "vscode": {
   "interpreter": {
    "hash": "31cc86d7aac4849c7546154c9b56d60163d5e8a1d83593a5eed18774fbf4fd37"
   }
  }
 },
 "nbformat": 4,
 "nbformat_minor": 4
}
