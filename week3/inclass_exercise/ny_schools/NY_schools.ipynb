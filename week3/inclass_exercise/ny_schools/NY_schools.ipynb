{
 "cells": [
  {
   "cell_type": "markdown",
   "metadata": {},
   "source": [
    "<a href='https://ai.meng.duke.edu'> = <img align=\"left\" style=\"padding-top:10px;\" src=https://storage.googleapis.com/aipi_datasets/Duke-AIPI-Logo.png>"
   ]
  },
  {
   "cell_type": "markdown",
   "metadata": {},
   "source": [
    "# Evaluating the math performance of NY state middle schools"
   ]
  },
  {
   "cell_type": "markdown",
   "metadata": {},
   "source": [
    "<img align=\"left\" style=\"padding-top:10px;\" src=\"NYSED_logo.png\">"
   ]
  },
  {
   "cell_type": "markdown",
   "metadata": {},
   "source": [
    "## Background\n",
    "You have recently been engaged on a consulting assignment by the NY State Department of Education to identify ways to improve the math performance of middle school students across the state.  The DoE believes that NY middle school students are not performing at a competitive level to other states in the country.\n",
    "\n",
    "The DoE has limited resources and would like to make data-driven decisions on how to deploy those resources to have maximum effect on the overall math performance of the state's middle school children.  \n",
    "\n",
    "**Identify underperforming schools**   \n",
    "One of the main factors under control of the DoE is where to allocate their annual budget, e.g. how to distribute it amongst the counties and schools in the state.  Our hypothesis is that by identifying the most grossly underperforming areas of the state and allocating more of the budget to those areas, we can maximize the impact of our dollars available to spend.  Our analysis today will focus on identifying the worst performing schools and counties in mathematics, in order to help the DoE make budget allocation decisions.\n",
    "\n",
    "For our analysis, we have decided to define an \"underperforming school\" as one in which average math assessment scores for grade 8 students have been in the bottom 10% of scores across the state for each of the past three years.  Identifying underperforming schools can help us focus our state's investment and efforts towards improving math outcomes for students in those schools.\n",
    "\n",
    "Being the brilliant data science consultant that you are, you know the next step is to look for data.  We know that in order to perform any useful analysis, we need data on average math assessment scores for grade 8 students broken down by school."
   ]
  },
  {
   "cell_type": "markdown",
   "metadata": {},
   "source": [
    "## Data\n",
    "The NY State DoE maintains a database of aggregated assessment scores for grades 3-8 for each public middle school in the state dating back to 2013-14, broken down into various demographic groups.  We can use this data to analyze the last three years of historical data and identify underperforming schools in mathematics.  "
   ]
  },
  {
   "cell_type": "code",
   "execution_count": null,
   "metadata": {},
   "outputs": [],
   "source": [
    "# This downloads the necessary data files into the same directory where you have saved this notebook\n",
    "# Run this before any other code cell\n",
    "\n",
    "import urllib.request\n",
    "from pathlib import Path\n",
    "import os\n",
    "import zipfile\n",
    "path = Path()\n",
    "\n",
    "# Dictionary of file names and download links\n",
    "files = {'NY_schools_data_clean.zip':'https://storage.googleapis.com/aipi_datasets/NY_schools_data_clean.zip'}\n",
    "\n",
    "# Download file(s)\n",
    "for key,value in files.items():\n",
    "    filename = path/key\n",
    "    url = value\n",
    "    # Download and unzip if it does not already exist\n",
    "    if not os.path.exists(filename):\n",
    "        urllib.request.urlretrieve(url,filename)\n",
    "        zip_ref = zipfile.ZipFile(filename, 'r')\n",
    "        zip_ref.extractall(path)\n",
    "        zip_ref.close()"
   ]
  },
  {
   "cell_type": "markdown",
   "metadata": {},
   "source": [
    "### Load the data"
   ]
  },
  {
   "cell_type": "code",
   "execution_count": null,
   "metadata": {},
   "outputs": [],
   "source": [
    "# Import the libraries we need\n",
    "import pandas as pd\n",
    "import numpy as np\n",
    "import matplotlib.pyplot as plt\n",
    "\n",
    "# Disable pandas warnings\n",
    "pd.options.mode.chained_assignment = None  # default='warn'\n",
    "\n",
    "# Read in the three data files, one for each year\n",
    "datapath = 'NY_schools_data_clean'\n",
    "if not os.path.exists(datapath):\n",
    "    raise FileNotFoundError(f'Expected data to be located in {os.path.abspath(path)}. Please get the files and try again.')\n",
    "df_nydoe = pd.read_csv(datapath+'/nydoe_cleandata.csv',index_col=0)\n",
    "\n",
    "# How much data do we have?\n",
    "print(df_nydoe.shape)\n",
    "\n",
    "# Look at the structure of the data (transpose it for easier viewing)\n",
    "df_nydoe.head()"
   ]
  },
  {
   "cell_type": "markdown",
   "metadata": {},
   "source": [
    "## Part 1: Data Preparation"
   ]
  },
  {
   "cell_type": "markdown",
   "metadata": {},
   "source": [
    "Before we do any analysis on our data, we have some cleanup to do.  Some schools are missing scores, which we will need to filter out.  We also will want to filter our data down to only the rows containing math scores for grade 8.\n",
    "\n",
    "Complete the below function `prepare_data()` which does the following:  \n",
    "- Removes any rows which contain '-' (no score) for 2017, 2018 or 2019  \n",
    "- Converts scores columns (2017,2018,2019) from strings to integers\n",
    "- Filters the data to only the rows containing math scores for grade 8\n",
    "\n",
    "The function should return the cleaned and filtered dataframe."
   ]
  },
  {
   "cell_type": "code",
   "execution_count": null,
   "metadata": {},
   "outputs": [],
   "source": [
    "def prepare_data(df):\n",
    "    '''\n",
    "    Cleans dataset to remove rows with missing scores and filters to get only Grade 8 math scores\n",
    "\n",
    "    Inputs:\n",
    "        df(DataFrame): input dataframe containing all scores data\n",
    "    \n",
    "    Returns:\n",
    "        df_filtered(DataFrame): filtered and cleaned dataframe containing only the rows with grade 8 math scores\n",
    "    '''\n",
    "    \n",
    "    ### BEGIN SOLUTION ###\n",
    "    \n",
    "\n",
    "    ### END SOLUTION ###"
   ]
  },
  {
   "cell_type": "code",
   "execution_count": null,
   "metadata": {},
   "outputs": [],
   "source": [
    "# Display dataframe head to visually check\n",
    "df_filtered = prepare_data(df_nydoe)\n",
    "df_filtered.head()"
   ]
  },
  {
   "cell_type": "markdown",
   "metadata": {},
   "source": [
    "## Part 2: Analysis"
   ]
  },
  {
   "cell_type": "markdown",
   "metadata": {},
   "source": [
    "Now that we have our data cleaned and filtered, it's time to begin our analysis.  Complete the below function `find_underperformers()` which finds the underforming schools, which we have defined as the schools which have been in the bottom 10% for all 3 years.  The function should return the original dataframe filtered to include only the underperforming schools.\n",
    "\n",
    "One way to approach this would be to:  \n",
    "- Get the list of underperformers each year by sorting based on score for that year and then filtering to the bottom 10%  \n",
    "- Filter the original dataframe to only the schools which are in the list of underperformers for each of the 3 years"
   ]
  },
  {
   "cell_type": "code",
   "execution_count": null,
   "metadata": {},
   "outputs": [],
   "source": [
    "def find_underperformers(df_filtered):\n",
    "    '''\n",
    "    Identifies the underperforming schools (in bottom 10% all 3 years)\n",
    "    \n",
    "    Inputs:\n",
    "        df_filtered (DataFrame): cleaned and filtered dataframe\n",
    "\n",
    "    Returns:\n",
    "        df_underperformers(DataFrame): dataframe filtered to include only the underperforming schools\n",
    "    '''\n",
    "    \n",
    "    ### BEGIN SOLUTION ###\n",
    "\n",
    "   \n",
    "    ### END SOLUTION ###"
   ]
  },
  {
   "cell_type": "code",
   "execution_count": null,
   "metadata": {},
   "outputs": [],
   "source": [
    "# Test cell\n",
    "df_underperformers = find_underperformers(df_filtered)\n",
    "assert df_underperformers.shape[0] == 50"
   ]
  },
  {
   "cell_type": "markdown",
   "metadata": {},
   "source": [
    "## Part 3: Evaluation/Interpretation\n",
    "Are the underperforming schools clustered geographically? Let's look at the distribution by county.  Complete the below function `count_underperformers_by_county()` which plots a bar chart showing the count of underperfoming schools by county (for all counties that contain underperforming schools)."
   ]
  },
  {
   "cell_type": "code",
   "execution_count": null,
   "metadata": {},
   "outputs": [],
   "source": [
    "def count_underperformers_by_county(df_underperformers):\n",
    "    '''\n",
    "    Plots a bar chart showing the count of underperforming schools for each country (only counties which include underperformers)\n",
    "\n",
    "    Inputs:\n",
    "        df_underperformers(DataFrame): DataFrame containing the underperforming schools\n",
    "\n",
    "    Returns:\n",
    "        None\n",
    "    '''\n",
    "    ### BEGIN SOLUTION ###\n",
    "   \n",
    "    ### END SOLUTION ###"
   ]
  }
 ],
 "metadata": {
  "kernelspec": {
   "display_name": "Python 3.9.7 ('aipi540')",
   "language": "python",
   "name": "python3"
  },
  "language_info": {
   "codemirror_mode": {
    "name": "ipython",
    "version": 3
   },
   "file_extension": ".py",
   "mimetype": "text/x-python",
   "name": "python",
   "nbconvert_exporter": "python",
   "pygments_lexer": "ipython3",
   "version": "3.9.7"
  },
  "vscode": {
   "interpreter": {
    "hash": "31cc86d7aac4849c7546154c9b56d60163d5e8a1d83593a5eed18774fbf4fd37"
   }
  }
 },
 "nbformat": 4,
 "nbformat_minor": 4
}
