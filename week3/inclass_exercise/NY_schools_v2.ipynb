{
 "cells": [
  {
   "cell_type": "markdown",
   "metadata": {},
   "source": [
    "<a href='https://ai.meng.duke.edu'> = <img align=\"left\" style=\"padding-top:10px;\" src=\"Duke-AIPI-Logo.png\">"
   ]
  },
  {
   "cell_type": "markdown",
   "metadata": {},
   "source": [
    "# Evaluating the math performance of NY state middle schools"
   ]
  },
  {
   "cell_type": "markdown",
   "metadata": {},
   "source": [
    "<img align=\"left\" style=\"padding-top:10px;\" src=\"NYSED_logo.png\">"
   ]
  },
  {
   "cell_type": "markdown",
   "metadata": {},
   "source": [
    "## Background\n",
    "You have recently been engaged on a consulting assignment by the NY State Department of Education to identify ways to improve the math performance of middle school students across the state.  The DoE believes that NY middle school students are not performing at a competitive level to other states in the country.\n",
    "\n",
    "The DoE has limited resources and would like to make data-driven decisions on how to deploy those resources to have maximum effect on the overall math performance of the state's middle school children.  \n",
    "\n",
    "**Identify underperforming schools**   \n",
    "One of the main factors under control of the DoE is where to allocate their annual budget, e.g. how to distribute it amongst the counties and schools in the state.  Our hypothesis is that by identifying the most grossly underperforming areas of the state and allocating more of the budget to those areas, we can maximize the impact of our dollars available to spend.  Our analysis today will focus on identifying the worst performing schools and counties in mathematics, in order to help the DoE make budget allocation decisions.\n",
    "\n",
    "For our analysis, we have decided to define an \"underperforming school\" as one in which average math assessment scores for grade 8 students have been in the bottom 10% of scores across the state for each of the past three years.  Identifying underperforming schools can help us focus our state's investment and efforts towards improving math outcomes for students in those schools.\n",
    "\n",
    "Being the brilliant data science consultant that you are, you know the next step is to look for data.  We know that in order to perform any useful analysis, we need data on average math assessment scores for grade 8 students broken down by school."
   ]
  },
  {
   "cell_type": "markdown",
   "metadata": {},
   "source": [
    "## Data\n",
    "The NY State DoE maintains a database of aggregated assessment scores for grades 3-8 for each public middle school in the state dating back to 2013-14, broken down into various demographic groups.  We can use this data to analyze the last three years of historical data and identify underperforming schools in mathematics.  "
   ]
  },
  {
   "cell_type": "code",
   "execution_count": 1,
   "metadata": {},
   "outputs": [],
   "source": [
    "# This downloads the necessary data files into the same directory where you have saved this notebook\n",
    "# Run this before any other code cell\n",
    "\n",
    "import urllib.request\n",
    "from pathlib import Path\n",
    "import os\n",
    "import zipfile\n",
    "path = Path()\n",
    "\n",
    "# Dictionary of file names and download links\n",
    "files = {'NY_schools_data_clean.zip':'https://storage.googleapis.com/aipi_datasets/NY_schools_data_clean.zip'}\n",
    "\n",
    "# Download file(s)\n",
    "for key,value in files.items():\n",
    "    filename = path/key\n",
    "    url = value\n",
    "    # Download and unzip if it does not already exist\n",
    "    if not os.path.exists(filename):\n",
    "        urllib.request.urlretrieve(url,filename)\n",
    "        zip_ref = zipfile.ZipFile(filename, 'r')\n",
    "        zip_ref.extractall(path)\n",
    "        zip_ref.close()"
   ]
  },
  {
   "cell_type": "markdown",
   "metadata": {},
   "source": [
    "### Load the data"
   ]
  },
  {
   "cell_type": "code",
   "execution_count": 2,
   "metadata": {},
   "outputs": [],
   "source": [
    "# Import the libraries we need\n",
    "import pandas as pd\n",
    "import numpy as np\n",
    "import matplotlib.pyplot as plt\n",
    "\n",
    "# Disable pandas warnings\n",
    "pd.options.mode.chained_assignment = None  # default='warn'"
   ]
  },
  {
   "cell_type": "code",
   "execution_count": 3,
   "metadata": {},
   "outputs": [],
   "source": [
    "# Read in the three data files, one for each year\n",
    "datapath = 'NY_schools_data_clean'\n",
    "if not os.path.exists(datapath):\n",
    "    raise FileNotFoundError(f'Expected data to be located in {os.path.abspath(path)}. Please get the files and try again.')\n",
    "df_nydoe = pd.read_csv(datapath+'/nydoe_cleandata.csv',index_col=0)"
   ]
  },
  {
   "cell_type": "code",
   "execution_count": 4,
   "metadata": {},
   "outputs": [
    {
     "data": {
      "text/plain": [
       "(22151, 10)"
      ]
     },
     "execution_count": 4,
     "metadata": {},
     "output_type": "execute_result"
    }
   ],
   "source": [
    "# How much data do we have?\n",
    "df_nydoe.shape"
   ]
  },
  {
   "cell_type": "code",
   "execution_count": 5,
   "metadata": {},
   "outputs": [
    {
     "data": {
      "text/html": [
       "<div>\n",
       "<style scoped>\n",
       "    .dataframe tbody tr th:only-of-type {\n",
       "        vertical-align: middle;\n",
       "    }\n",
       "\n",
       "    .dataframe tbody tr th {\n",
       "        vertical-align: top;\n",
       "    }\n",
       "\n",
       "    .dataframe thead th {\n",
       "        text-align: right;\n",
       "    }\n",
       "</style>\n",
       "<table border=\"1\" class=\"dataframe\">\n",
       "  <thead>\n",
       "    <tr style=\"text-align: right;\">\n",
       "      <th></th>\n",
       "      <th>101247</th>\n",
       "      <th>101261</th>\n",
       "      <th>101275</th>\n",
       "      <th>101290</th>\n",
       "      <th>101304</th>\n",
       "    </tr>\n",
       "  </thead>\n",
       "  <tbody>\n",
       "    <tr>\n",
       "      <th>SCHOOL_ID</th>\n",
       "      <td>MONTESSORI MAGNET SCHOOL (ALBANY)</td>\n",
       "      <td>MONTESSORI MAGNET SCHOOL (ALBANY)</td>\n",
       "      <td>MONTESSORI MAGNET SCHOOL (ALBANY)</td>\n",
       "      <td>MONTESSORI MAGNET SCHOOL (ALBANY)</td>\n",
       "      <td>MONTESSORI MAGNET SCHOOL (ALBANY)</td>\n",
       "    </tr>\n",
       "    <tr>\n",
       "      <th>NRC_DESC</th>\n",
       "      <td>Urban-Suburban High Needs</td>\n",
       "      <td>Urban-Suburban High Needs</td>\n",
       "      <td>Urban-Suburban High Needs</td>\n",
       "      <td>Urban-Suburban High Needs</td>\n",
       "      <td>Urban-Suburban High Needs</td>\n",
       "    </tr>\n",
       "    <tr>\n",
       "      <th>COUNTY_DESC</th>\n",
       "      <td>ALBANY</td>\n",
       "      <td>ALBANY</td>\n",
       "      <td>ALBANY</td>\n",
       "      <td>ALBANY</td>\n",
       "      <td>ALBANY</td>\n",
       "    </tr>\n",
       "    <tr>\n",
       "      <th>ITEM_SUBJECT_AREA</th>\n",
       "      <td>ELA</td>\n",
       "      <td>Mathematics</td>\n",
       "      <td>ELA</td>\n",
       "      <td>Mathematics</td>\n",
       "      <td>ELA</td>\n",
       "    </tr>\n",
       "    <tr>\n",
       "      <th>GRADE</th>\n",
       "      <td>3</td>\n",
       "      <td>3</td>\n",
       "      <td>4</td>\n",
       "      <td>4</td>\n",
       "      <td>5</td>\n",
       "    </tr>\n",
       "    <tr>\n",
       "      <th>SUBGROUP_NAME</th>\n",
       "      <td>All Students</td>\n",
       "      <td>All Students</td>\n",
       "      <td>All Students</td>\n",
       "      <td>All Students</td>\n",
       "      <td>All Students</td>\n",
       "    </tr>\n",
       "    <tr>\n",
       "      <th>TOTAL_TESTED</th>\n",
       "      <td>38</td>\n",
       "      <td>37</td>\n",
       "      <td>36</td>\n",
       "      <td>33</td>\n",
       "      <td>36</td>\n",
       "    </tr>\n",
       "    <tr>\n",
       "      <th>MEAN_SCALE_SCORE_2017</th>\n",
       "      <td>309</td>\n",
       "      <td>301</td>\n",
       "      <td>314</td>\n",
       "      <td>311</td>\n",
       "      <td>305</td>\n",
       "    </tr>\n",
       "    <tr>\n",
       "      <th>MEAN_SCALE_SCORE_2018</th>\n",
       "      <td>598</td>\n",
       "      <td>598</td>\n",
       "      <td>607</td>\n",
       "      <td>604</td>\n",
       "      <td>607</td>\n",
       "    </tr>\n",
       "    <tr>\n",
       "      <th>MEAN_SCALE_SCORE_2019</th>\n",
       "      <td>596</td>\n",
       "      <td>592</td>\n",
       "      <td>602</td>\n",
       "      <td>605</td>\n",
       "      <td>602</td>\n",
       "    </tr>\n",
       "  </tbody>\n",
       "</table>\n",
       "</div>"
      ],
      "text/plain": [
       "                                                  101247  \\\n",
       "SCHOOL_ID              MONTESSORI MAGNET SCHOOL (ALBANY)   \n",
       "NRC_DESC                       Urban-Suburban High Needs   \n",
       "COUNTY_DESC                                       ALBANY   \n",
       "ITEM_SUBJECT_AREA                                    ELA   \n",
       "GRADE                                                  3   \n",
       "SUBGROUP_NAME                               All Students   \n",
       "TOTAL_TESTED                                          38   \n",
       "MEAN_SCALE_SCORE_2017                                309   \n",
       "MEAN_SCALE_SCORE_2018                                598   \n",
       "MEAN_SCALE_SCORE_2019                                596   \n",
       "\n",
       "                                                  101261  \\\n",
       "SCHOOL_ID              MONTESSORI MAGNET SCHOOL (ALBANY)   \n",
       "NRC_DESC                       Urban-Suburban High Needs   \n",
       "COUNTY_DESC                                       ALBANY   \n",
       "ITEM_SUBJECT_AREA                            Mathematics   \n",
       "GRADE                                                  3   \n",
       "SUBGROUP_NAME                               All Students   \n",
       "TOTAL_TESTED                                          37   \n",
       "MEAN_SCALE_SCORE_2017                                301   \n",
       "MEAN_SCALE_SCORE_2018                                598   \n",
       "MEAN_SCALE_SCORE_2019                                592   \n",
       "\n",
       "                                                  101275  \\\n",
       "SCHOOL_ID              MONTESSORI MAGNET SCHOOL (ALBANY)   \n",
       "NRC_DESC                       Urban-Suburban High Needs   \n",
       "COUNTY_DESC                                       ALBANY   \n",
       "ITEM_SUBJECT_AREA                                    ELA   \n",
       "GRADE                                                  4   \n",
       "SUBGROUP_NAME                               All Students   \n",
       "TOTAL_TESTED                                          36   \n",
       "MEAN_SCALE_SCORE_2017                                314   \n",
       "MEAN_SCALE_SCORE_2018                                607   \n",
       "MEAN_SCALE_SCORE_2019                                602   \n",
       "\n",
       "                                                  101290  \\\n",
       "SCHOOL_ID              MONTESSORI MAGNET SCHOOL (ALBANY)   \n",
       "NRC_DESC                       Urban-Suburban High Needs   \n",
       "COUNTY_DESC                                       ALBANY   \n",
       "ITEM_SUBJECT_AREA                            Mathematics   \n",
       "GRADE                                                  4   \n",
       "SUBGROUP_NAME                               All Students   \n",
       "TOTAL_TESTED                                          33   \n",
       "MEAN_SCALE_SCORE_2017                                311   \n",
       "MEAN_SCALE_SCORE_2018                                604   \n",
       "MEAN_SCALE_SCORE_2019                                605   \n",
       "\n",
       "                                                  101304  \n",
       "SCHOOL_ID              MONTESSORI MAGNET SCHOOL (ALBANY)  \n",
       "NRC_DESC                       Urban-Suburban High Needs  \n",
       "COUNTY_DESC                                       ALBANY  \n",
       "ITEM_SUBJECT_AREA                                    ELA  \n",
       "GRADE                                                  5  \n",
       "SUBGROUP_NAME                               All Students  \n",
       "TOTAL_TESTED                                          36  \n",
       "MEAN_SCALE_SCORE_2017                                305  \n",
       "MEAN_SCALE_SCORE_2018                                607  \n",
       "MEAN_SCALE_SCORE_2019                                602  "
      ]
     },
     "execution_count": 5,
     "metadata": {},
     "output_type": "execute_result"
    }
   ],
   "source": [
    "# Look at the structure of the data (transpose it for easier viewing)\n",
    "df_nydoe.head().T"
   ]
  },
  {
   "cell_type": "markdown",
   "metadata": {},
   "source": [
    "## Part 1: Data Preparation"
   ]
  },
  {
   "cell_type": "markdown",
   "metadata": {},
   "source": [
    "Before we do any analysis on our data, we have some cleanup to do.  Some schools are missing scores, which we will need to filter out.  We also will want to filter our data down to only the rows containing math scores for grade 8.\n",
    "\n",
    "Complete the below function `prepare_data()` which does the following:  \n",
    "- Removes any rows which contain '-' (no score) for 2017, 2018 or 2019  \n",
    "- Converts scores columns (2017,2018,2019) from strings to integers\n",
    "- Filters the data to only the rows containing math scores for grade 8\n",
    "\n",
    "The function should return the cleaned and filtered dataframe."
   ]
  },
  {
   "cell_type": "code",
   "execution_count": null,
   "metadata": {},
   "outputs": [],
   "source": [
    "def prepare_data(df):\n",
    "    '''\n",
    "    Cleans dataset to remove rows with missing scores and filters to get only Grade 8 math scores\n",
    "    :param df: input dataframe containing all scores data\n",
    "    :return df_filtered: filtered dataframe\n",
    "    '''\n",
    "    \n",
    "    ### BEGIN SOLUTION ###\n",
    "    \n",
    "   \n",
    "\n",
    "    ### END SOLUTION ###"
   ]
  },
  {
   "cell_type": "code",
   "execution_count": null,
   "metadata": {},
   "outputs": [],
   "source": [
    "df_filtered = prepare_data(df_nydoe)\n",
    "df_filtered.head().T"
   ]
  },
  {
   "cell_type": "markdown",
   "metadata": {},
   "source": [
    "## Part 2: Analysis"
   ]
  },
  {
   "cell_type": "markdown",
   "metadata": {},
   "source": [
    "Now that we have our data cleaned and filtered, it's time to begin our analysis.  Complete the below function `find_underperformers()` which finds the underforming schools, which we have defined as the schools which have been in the bottom 10% for all 3 years.  The function should return the original dataframe filtered to include only the underperforming schools.\n",
    "\n",
    "One way to approach this would be to:  \n",
    "- Get the list of underperformers each year by sorting based on score for that year and then filtering to the bottom 10%  \n",
    "- Filter the original dataframe to only the schools which are in the list of underperformers for each of the 3 years"
   ]
  },
  {
   "cell_type": "code",
   "execution_count": null,
   "metadata": {},
   "outputs": [],
   "source": [
    "def find_underperformers(df_filtered):\n",
    "    '''\n",
    "    Identifies the underperforming schools (in bottom 10% all 3 years)\n",
    "    :param df_filtered: cleaned and filtered dataframed\n",
    "    :return: dataframe filtered to include only the underperforming schools\n",
    "    '''\n",
    "    \n",
    "    ### BEGIN SOLUTION ###\n",
    "\n",
    "   \n",
    "\n",
    "    ### END SOLUTION ###"
   ]
  },
  {
   "cell_type": "code",
   "execution_count": null,
   "metadata": {},
   "outputs": [],
   "source": [
    "# How many schools are there that have been underperformers the last 3 years?\n",
    "df_underperformers = find_underperformers(df_filtered)\n",
    "df_underperformers.shape[0]"
   ]
  },
  {
   "cell_type": "markdown",
   "metadata": {},
   "source": [
    "## Part 3: Evaluation/Interpretation\n",
    "Are the underperforming schools clustered geographically? Let's look at the distribution by county.  Create a bar chart showing the count of underperfoming schools by county (for all counties that contain underperforming schools)"
   ]
  },
  {
   "cell_type": "code",
   "execution_count": null,
   "metadata": {},
   "outputs": [],
   "source": [
    "### BEGIN SOLUTION ###\n",
    "\n",
    "\n",
    "### END SOLUTION"
   ]
  },
  {
   "cell_type": "markdown",
   "metadata": {},
   "source": [
    "### Visualizaing the underperformers by county"
   ]
  },
  {
   "cell_type": "markdown",
   "metadata": {},
   "source": [
    "Let's create a geospatial visualization for our client of where the underperforming schools are."
   ]
  },
  {
   "cell_type": "code",
   "execution_count": null,
   "metadata": {},
   "outputs": [],
   "source": [
    "# First we need to map the county names to FIPS codes for plotting on a geographic map.  \n",
    "# We can use the US Census FIPS code list availabe at \n",
    "# https://www.census.gov/geographies/reference-files/2016/demo/popest/2016-fips.html to do this\n",
    "\n",
    "fips_codes = pd.read_excel(datapath+'/all-geocodes-v2016.xlsx',header=4,engine='openpyxl')\n",
    "fips_codes.rename({'Area Name (including legal/statistical area description)':'Area Reference'},axis=1,inplace=True)\n",
    "fips_codes.head()"
   ]
  },
  {
   "cell_type": "code",
   "execution_count": null,
   "metadata": {},
   "outputs": [],
   "source": [
    "# First we filter the fips_codes dataframe to only the codes for NY state\n",
    "fips_codes = fips_codes[fips_codes['State Code (FIPS)']==36]\n",
    "\n",
    "# Format our county names to the format needed to match into the FIPS table\n",
    "underperformers_bycounty = pd.DataFrame(underperformers_bycounty)\n",
    "underperformers_bycounty.rename({'COUNTY_DESC':'Underperformers'},axis=1,inplace=True)\n",
    "underperformers_bycounty['County_Formatted'] = underperformers_bycounty.index.str.title() # Convert to lowercase\n",
    "underperformers_bycounty['County_Formatted'] = underperformers_bycounty['County_Formatted'] + ' County' # Add 'county'\n",
    "\n",
    "# Now we can merge the FIPS code from our fips_codes dataframe into underperformers_by_county\n",
    "underperformers_bycounty = underperformers_bycounty.merge(fips_codes[['County Code (FIPS)','Area Reference']],\n",
    "                                                         left_on='County_Formatted', right_on='Area Reference',\n",
    "                                                         how='inner')\n",
    "\n",
    "# One more detail - plotly expects the full FIPS code (state+county), so we need to add the state code\n",
    "underperformers_bycounty['County Code (FIPS)'] = underperformers_bycounty['County Code (FIPS)'] + 36000\n",
    "\n",
    "# Plot the underperformers by county using a choropleth chart\n",
    "import plotly.figure_factory as ff\n",
    "\n",
    "fig = ff.create_choropleth(\n",
    "    fips=underperformers_bycounty['County Code (FIPS)'],\n",
    "    values=underperformers_bycounty['Underperformers'],\n",
    "    scope=['NY'],\n",
    "    county_outline={'color': 'rgb(169,169,169)', 'width': 0.5},\n",
    "    state_outline={'color': 'rgb(169,169,169)', 'width': 0.5},\n",
    "    legend_title='Count of underperforming schools')\n",
    "\n",
    "fig.layout.template=None\n",
    "fig.show()"
   ]
  }
 ],
 "metadata": {
  "kernelspec": {
   "display_name": "Python 3.7.10 ('base')",
   "language": "python",
   "name": "python3"
  },
  "language_info": {
   "codemirror_mode": {
    "name": "ipython",
    "version": 3
   },
   "file_extension": ".py",
   "mimetype": "text/x-python",
   "name": "python",
   "nbconvert_exporter": "python",
   "pygments_lexer": "ipython3",
   "version": "3.7.10"
  },
  "vscode": {
   "interpreter": {
    "hash": "40d3a090f54c6569ab1632332b64b2c03c39dcf918b08424e98f38b5ae0af88f"
   }
  }
 },
 "nbformat": 4,
 "nbformat_minor": 4
}
