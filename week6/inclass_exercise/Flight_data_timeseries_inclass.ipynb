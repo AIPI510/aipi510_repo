{
 "cells": [
  {
   "cell_type": "markdown",
   "metadata": {},
   "source": [
    "<a href='https://ai.meng.duke.edu'> = <img align=\"left\" style=\"padding-top:10px;\" src=https://storage.googleapis.com/aipi_datasets/Duke-AIPI-Logo.png>"
   ]
  },
  {
   "cell_type": "markdown",
   "metadata": {},
   "source": [
    "# Flights data time series analysis"
   ]
  },
  {
   "cell_type": "code",
   "execution_count": null,
   "metadata": {},
   "outputs": [],
   "source": [
    "# Run this before any other code cell\n",
    "# This downloads the csv data files into the same directory where you have saved this notebook\n",
    "\n",
    "import urllib.request\n",
    "from pathlib import Path\n",
    "import os\n",
    "path = Path()\n",
    "\n",
    "# Dictionary of file names and download links\n",
    "files = {'Aug2019_flights.csv':'https://storage.googleapis.com/aipi_datasets/Aug2019_flights.csv',\n",
    "        'Airport_codes.csv': 'https://storage.googleapis.com/aipi_datasets/Airport_codes.csv',\n",
    "        'Airline_codes.csv': 'https://storage.googleapis.com/aipi_datasets/Airline_codes.csv'}\n",
    "\n",
    "# Download each file\n",
    "for key,value in files.items():\n",
    "    filename = path/key\n",
    "    url = value\n",
    "    # If the file does not already exist in the directory, download it\n",
    "    if not os.path.exists(filename):\n",
    "        urllib.request.urlretrieve(url,filename)"
   ]
  },
  {
   "cell_type": "markdown",
   "metadata": {},
   "source": [
    "## Prepare the data\n",
    "We will start by loading the necessary libraries and reading in the dataset to a pandas dataframe."
   ]
  },
  {
   "cell_type": "code",
   "execution_count": null,
   "metadata": {},
   "outputs": [],
   "source": [
    "import pandas as pd\n",
    "import numpy as np\n",
    "import matplotlib.pyplot as plt\n",
    "\n",
    "import warnings\n",
    "warnings.filterwarnings(\"ignore\")\n",
    "\n",
    "# Read in the data and display the head to see what data we have\n",
    "flight_data = pd.read_csv(\"Aug2019_flights.csv\")\n",
    "print(flight_data.dtypes)\n",
    "flight_data.head()\n"
   ]
  },
  {
   "cell_type": "code",
   "execution_count": null,
   "metadata": {},
   "outputs": [],
   "source": [
    "# Convert FL_DATE to datetime\n",
    "flight_data['FL_DATE'] = pd.to_datetime(flight_data['FL_DATE'])\n",
    "print(flight_data.dtypes)"
   ]
  },
  {
   "cell_type": "markdown",
   "metadata": {},
   "source": [
    "We can add additional columns to store unique features of the data e.g. the year, month, day or hour"
   ]
  },
  {
   "cell_type": "code",
   "execution_count": null,
   "metadata": {},
   "outputs": [],
   "source": [
    "flight_data['DAY'] = flight_data['FL_DATE'].dt.day\n",
    "flight_data['MONTH'] = flight_data['FL_DATE'].dt.month\n",
    "flight_data.head()"
   ]
  },
  {
   "cell_type": "markdown",
   "metadata": {},
   "source": [
    "## Time series visualization\n",
    "We will run a time series analysis on the number of flights per day over the month period.  Let's first visualize the trends"
   ]
  },
  {
   "cell_type": "code",
   "execution_count": null,
   "metadata": {},
   "outputs": [],
   "source": [
    "# Group flights by day of the month and count the number of flights each day\n",
    "flights_per_day = flight_data['FL_DATE'].value_counts().sort_index(ascending=True)\n",
    "\n",
    "# Plot the flights per day\n",
    "plt.figure(figsize=(10,5))\n",
    "plt.plot(flights_per_day)\n",
    "plt.xticks(rotation=60)\n",
    "plt.show()"
   ]
  },
  {
   "cell_type": "markdown",
   "metadata": {},
   "source": [
    "## Time series decomposition\n",
    "We can use the statsmodels library seasonal_decompose tool to break down our time series data into its components - trend and seasonality.  We first need to determine whether our data is better represented by an additive or multiplicative model.\n",
    "\n",
    "An **additive model** is a linear model in which the components are added together.  The model assumes that seasonality is linear and therefore has the same frequency and amplitude over time.  \n",
    "`y(t) = Trend + Seasonality + Noise`\n",
    "\n",
    "A **multiplicative model** suggests the components are multiplied together and is therefore nonlinear.  The model assumes that seasonality is nonlinear and frequency and/or amplitude increase or decrease over time  \n",
    "`y(t) = Trend * Seasonality * Noise`"
   ]
  },
  {
   "cell_type": "code",
   "execution_count": null,
   "metadata": {},
   "outputs": [],
   "source": [
    "import statsmodels.api as sm\n",
    "decomposition = sm.tsa.seasonal_decompose(flights_per_day, model = 'additive',period=7) # Period =7 because seasonality is on weekly basis\n",
    "plt.rcParams['figure.figsize'] = [10,10]\n",
    "decomposition.plot()\n",
    "plt.show()"
   ]
  },
  {
   "cell_type": "markdown",
   "metadata": {},
   "source": [
    "By looking at the magnitude of the trend and seasonal components relative to the residuals, we determine that these modeled effects are not likely due to randomness and that there is in fact a trend component to our data and a seasonal/cyclical component with a period=7."
   ]
  },
  {
   "cell_type": "markdown",
   "metadata": {},
   "source": [
    "# Model the time series\n",
    "## Model the trend"
   ]
  },
  {
   "cell_type": "code",
   "execution_count": null,
   "metadata": {},
   "outputs": [],
   "source": [
    "# To use the date as a feature for linear modeling, we need to convert it to numeric number of days since origin\n",
    "linmodel_df = pd.DataFrame({'Count':flights_per_day})\n",
    "linmodel_df['Days'] = (linmodel_df.index-linmodel_df.index.min()).days\n",
    "linmodel_df.head()"
   ]
  },
  {
   "cell_type": "markdown",
   "metadata": {},
   "source": [
    "Let's fit a linear regression on the data using only the day ('Day') as a single predictor variable."
   ]
  },
  {
   "cell_type": "code",
   "execution_count": null,
   "metadata": {
    "scrolled": false
   },
   "outputs": [],
   "source": [
    "# Create a single-variable linear regression and fit it to the data\n",
    "from sklearn.linear_model import LinearRegression\n",
    "linear_model = LinearRegression()\n",
    "linear_model.fit(X=linmodel_df['Days'].values.reshape(-1,1), y=linmodel_df['Count'])\n",
    "\n",
    "# Get in-sample predictions (on the training set) for the days in the month\n",
    "linear_preds = linear_model.predict(linmodel_df['Days'].values.reshape(-1,1))\n",
    "\n",
    "# Add predictions and residuals to the dataframe\n",
    "linmodel_df['Preds'] = linear_preds\n",
    "linmodel_df['resids']=linmodel_df['Count']-linmodel_df['Preds']\n",
    "\n",
    "linmodel_df.head()"
   ]
  },
  {
   "cell_type": "markdown",
   "metadata": {},
   "source": [
    "Now we can calculate the error metrics of our model.  If these are new to you and do not follow how they are calculated, here is a simple introductory video: https://www.khanacademy.org/math/statistics-probability/describing-relationships-quantitative-data/assessing-the-fit-in-least-squares-regression/v/r-squared-or-coefficient-of-determination\n",
    "\n",
    "Mean squared error (MSE):\n",
    "$$ MSE = \\frac{1}{n}\\sum_{i=1}^{n}(y_{i} - \\hat{y}_{i})^{2} $$\n",
    "\n",
    "Coefficient of determination (R-squared):\n",
    "$$ R^2 = 1 − \\frac{\\sum_{i=1}^{n}(y_{i} - \\hat{y}_{i})^{2}}{\\sum_{i=1}^{n}(y_{i} - \\bar{y}_{i})^{2}} = 1 - \\frac{\\frac{1}{n}\\sum_{i=1}^{n}(y_{i} - \\hat{y}_{i})^{2}}{\\frac{1}{n}\\sum_{i=1}^{n}(y_{i} - \\bar{y}_{i})^{2}} = 1 - \\frac{\\sigma_{residuals}^{2}}{\\sigma_{y}^{2}} = 1 - \\frac{MSE}{\\sigma_{y}^{2}}$$"
   ]
  },
  {
   "cell_type": "code",
   "execution_count": null,
   "metadata": {},
   "outputs": [],
   "source": [
    "# Calculate the model performance statistics\n",
    "mse = np.sum(linmodel_df['resids']**2,axis=0)/linmodel_df.shape[0]\n",
    "r2 = 1 - np.sum((linmodel_df['resids'])**2)/np.sum((linmodel_df['Count']-np.mean(linmodel_df['Count']))**2)\n",
    "#r2 = 1 - mse/np.var(linmodel_df['Count']) # Alternative way to calculate r2\n",
    "\n",
    "# Display the model and performance metrics\n",
    "print('The fitted model is: y = {:.3f}x + {:.3f}'.format(linear_model.coef_[0], linear_model.intercept_))\n",
    "print('The simple linear model has R^2={:.3f} and MSE={:.3f}'.format(r2,mse))\n",
    "\n",
    "# Plot the data and the predictions\n",
    "plt.figure(figsize=(10,5))\n",
    "plt.scatter(x=linmodel_df['Days'], y=linmodel_df['Count'])\n",
    "plt.plot(linmodel_df['Days'], linmodel_df['Preds'],color='red')\n",
    "plt.ylabel('Count of flights')\n",
    "plt.show()"
   ]
  },
  {
   "cell_type": "markdown",
   "metadata": {},
   "source": [
    "## Model the weekly seasonality"
   ]
  },
  {
   "cell_type": "code",
   "execution_count": null,
   "metadata": {},
   "outputs": [],
   "source": [
    "# Add feature for day of week\n",
    "dowmodel_df = pd.DataFrame({'Count':flights_per_day})\n",
    "dowmodel_df['Day_of_week'] = dowmodel_df.index.dayofweek\n",
    "dowmodel_df.head()"
   ]
  },
  {
   "cell_type": "code",
   "execution_count": null,
   "metadata": {},
   "outputs": [],
   "source": [
    "# Apply one-hot encoding to create a separate feature for each day of week\n",
    "dowmodel_encoded = pd.get_dummies(data = dowmodel_df, columns=['Day_of_week'])\n",
    "dowmodel_encoded.head()"
   ]
  },
  {
   "cell_type": "code",
   "execution_count": null,
   "metadata": {},
   "outputs": [],
   "source": [
    "# Create a linear regression and fit it to the data\n",
    "dow_model = LinearRegression()\n",
    "X = dowmodel_encoded.drop(labels='Count',axis=1)\n",
    "y = dowmodel_encoded['Count']\n",
    "dow_model.fit(X, y)\n",
    "\n",
    "# Get in-sample predictions (on the training set)\n",
    "preds = dow_model.predict(X)\n",
    "\n",
    "# Add predictions and residuals to the dataframe\n",
    "dowmodel_encoded['Preds'] = preds\n",
    "dowmodel_encoded['resids']=dowmodel_encoded['Count']-dowmodel_encoded['Preds']\n",
    "\n",
    "# Calculate the model performance statistics\n",
    "mse = np.sum(dowmodel_encoded['resids']**2,axis=0)/dowmodel_encoded.shape[0]\n",
    "r2 = 1 - np.sum((dowmodel_encoded['resids'])**2)/np.sum((dowmodel_encoded['Count']-np.mean(dowmodel_encoded['Count']))**2)\n",
    "\n",
    "# Display the model and performance metrics\n",
    "print('The fitted model is:')\n",
    "# Get the equation for the model\n",
    "coef = dow_model.coef_\n",
    "intercept = dow_model.intercept_\n",
    "\n",
    "# Print out the equation\n",
    "equation = 'y = {:.2f} + '.format(intercept) + ' + '.join(['{:.2f}*{}'.format(coef,var) for coef,var in zip(coef,X.columns)])\n",
    "print(equation)\n",
    "\n",
    "\n",
    "print('The simple linear model has R^2={:.3f} and MSE={:.3f}'.format(r2,mse))\n",
    "\n",
    "# Plot the data and the predictions\n",
    "plt.figure(figsize=(10,5))\n",
    "plt.scatter(x=dowmodel_encoded.index, y=dowmodel_encoded['Count'])\n",
    "plt.plot(dowmodel_encoded.index, dowmodel_encoded['Preds'],color='red')\n",
    "plt.xlim((dowmodel_encoded.index.min(),dowmodel_encoded.index.max()))\n",
    "plt.ylabel('Count of flights')\n",
    "plt.show()"
   ]
  },
  {
   "cell_type": "markdown",
   "metadata": {},
   "source": [
    "## Model with both trend and seasonality\n",
    "Now it's your turn.  Try to build a model which incorporates both the trend and the weekly seasonality components during the month for which we have data.  After you have created your feature set, train a linear regression model on your features.  Then, generate the predictions on the training set and calculate the R-squared and MSE for the training set.  Finally, print out your model equation and display a graph of your predictions overlaid on a scatterplot of the actual data."
   ]
  },
  {
   "cell_type": "code",
   "execution_count": null,
   "metadata": {},
   "outputs": [],
   "source": [
    "def model_trend_seasonality(flights_per_day):\n",
    "    '''\n",
    "    Performs linear regression incorporating both trend (using days passed as a feature) and weekly seasonality (using day of week)\n",
    "\n",
    "    Inputs:\n",
    "        flights_per_day(pd.Series): series containing the count of flights per day, with date as the index\n",
    "\n",
    "    Returns:\n",
    "        model(sklearn.linear_model.LinearRegression()): trained linear regression model\n",
    "        preds(np.ndarray): array containing the in-sample predictions\n",
    "        resids(np.ndarray): array containing the errors of the in-sample predictions\n",
    "    '''\n",
    "\n",
    "    ### BEGIN SOLUTION ###\n",
    "\n",
    "    \n",
    "\n",
    "    ### END SOLUTION ###"
   ]
  },
  {
   "cell_type": "code",
   "execution_count": null,
   "metadata": {},
   "outputs": [],
   "source": [
    "full_model, preds, resids = model_trend_seasonality(flights_per_day)\n",
    "\n",
    "# Calculate the model performance statistics\n",
    "mse = np.sum(resids**2,axis=0)/flights_per_day.shape[0]\n",
    "r2 = 1 - np.sum((resids)**2)/np.sum((flights_per_day-np.mean(flights_per_day))**2)\n",
    "\n",
    "# Display the model and performance metrics\n",
    "print('The fitted model is:')\n",
    "# Get the equation for the model\n",
    "coef = full_model.coef_\n",
    "intercept = full_model.intercept_\n",
    "\n",
    "# Print out the equation\n",
    "equation = 'y = {:.2f} + '.format(intercept) + ' + '.join(['{:.2f}*{}'.format(coef,var) for coef,var in zip(coef,X.columns)])\n",
    "print(equation)\n",
    "\n",
    "\n",
    "print('\\nThe simple linear model has R^2={:.3f} and MSE={:.3f}'.format(r2,mse))\n",
    "\n",
    "# Plot the data and the predictions\n",
    "plt.figure(figsize=(10,5))\n",
    "plt.scatter(x=dowmodel_encoded.index, y=dowmodel_encoded['Count'])\n",
    "plt.plot(dowmodel_encoded.index, preds,color='red')\n",
    "plt.xlim((dowmodel_encoded.index.min(),dowmodel_encoded.index.max()))\n",
    "plt.ylabel('Count of flights')\n",
    "plt.show()"
   ]
  },
  {
   "cell_type": "markdown",
   "metadata": {},
   "source": [
    "## Model using autocorrelation\n",
    "### Evaluating autocorrelation\n",
    "We can use Pearson's correlation coefficient to evaluate the correlation of the variable's observations with previous time step observations (called lags) of the variable.  Pearson's correlation coefficient ranges between -1 (complete negative correlation) and +1 (complete positive correlation), with a value of 0 indicating no correlation. The correlation of the observations with past time steps is called autocorrelation.\n",
    "\n",
    "The statsmodels library gives us a handy tool to plot the autocorrelation for a pandas series.  The shaded region in the plot below indicates the 95% confidence interval, meaning if a correlation is above or below this, we can interpret it to be statistically significant."
   ]
  },
  {
   "cell_type": "code",
   "execution_count": null,
   "metadata": {},
   "outputs": [],
   "source": [
    "# Display autocorrelation plot of flights_per_day over the time period\n",
    "from statsmodels.graphics.tsaplots import plot_acf, plot_pacf\n",
    "plot_acf(flights_per_day)\n",
    "plt.xlabel('Lag in days')\n",
    "plt.show()"
   ]
  },
  {
   "cell_type": "markdown",
   "metadata": {},
   "source": [
    "As we can see above, there is very little correlation of flight count on a particular day to the flight count on the previous day (lag=1).  Thus, the number of flights per day is unlikely to be a Markov process (where the autocorrelation to the observation at time t-1 (lag=1) explains all autocorrelation in the data).\n",
    "\n",
    "However, there is strong correlation of flight count to the count one week earlier (lag=7).  This is logical because we would expect the number of flights on each day of the week to be different, although similar to the count on the same day in prior weeks.  This is also consistent with the seasonable component of the time series decomposition we did above, where we found that the data shows a strong seasonal/cyclical component with a period=7.\n",
    "\n",
    "Let's build a function that helps us evaluate a model using autocorrelation. Complete the below function `autocorr_model()` which takes as inputs the DataFrame of flight counts and a number of days to model the autocorrelation.  The function should create a feature representing the flight count at the number of days lag specified as an input, build a linear regression model, and then generate and return the model, its predictions for each day, and the residuals."
   ]
  },
  {
   "cell_type": "code",
   "execution_count": null,
   "metadata": {},
   "outputs": [],
   "source": [
    "def autocorr_model(flights_df,days_lag):\n",
    "\n",
    "    ### BEGIN SOLUTION ###\n",
    "\n",
    "    \n",
    "\n",
    "    ### END SOLUTION ###"
   ]
  },
  {
   "cell_type": "code",
   "execution_count": null,
   "metadata": {},
   "outputs": [],
   "source": [
    "# Create a dataframe with the data formatted as we need it\n",
    "flights_df = pd.DataFrame({'Count':flights_per_day})\n",
    "days_lag = 1\n",
    "model, preds, resids = autocorr_model(flights_df,days_lag)\n",
    "\n",
    "# Display the model\n",
    "print('The fitted model is: y = {:.3f}x + {:.3f}'.format(model.coef_[0], model.intercept_))\n",
    "\n",
    "# Calculate and display the model performance statistics\n",
    "mse = np.sum(resids**2,axis=0)/len(resids)\n",
    "r2 = 1 - mse/np.var(flights_df['Count'][days_lag:])\n",
    "print('The simple linear model has R^2={:.3f} and MSE={:.2f}'.format(r2,mse))\n",
    "\n",
    "# Plot the data and the predictions\n",
    "plt.figure(figsize=(10,5))\n",
    "plt.scatter(x=flights_df.index, y=flights_df['Count'])\n",
    "plt.plot(flights_df.index[days_lag:], preds,color='red')\n",
    "plt.xlim((flights_df.index[days_lag:].min(),flights_df.index[days_lag:].max()))\n",
    "plt.ylabel('Count of flights')\n",
    "plt.show()"
   ]
  },
  {
   "cell_type": "markdown",
   "metadata": {},
   "source": [
    "As we would expect, the model produced by using only the value at time t-1 as an input is essentially garbage.  The reason for this is that there is no autocorrelation with the value at t-1 (lag-1).  Let's try again using the flight count 7 days prior as the feature, instead of yesterday's count. "
   ]
  },
  {
   "cell_type": "code",
   "execution_count": null,
   "metadata": {},
   "outputs": [],
   "source": [
    "# Create a dataframe with the data formatted as we need it\n",
    "flights_df = pd.DataFrame({'Count':flights_per_day})\n",
    "days_lag = 7\n",
    "model, preds, resids = autocorr_model(flights_df,days_lag)\n",
    "\n",
    "# Display the model\n",
    "print('The fitted model is: y = {:.3f}x + {:.3f}'.format(model.coef_[0], model.intercept_))\n",
    "\n",
    "# Calculate and display the model performance statistics\n",
    "mse = np.sum(resids**2,axis=0)/len(resids)\n",
    "r2 = 1 - mse/np.var(flights_df['Count'])\n",
    "print('The simple linear model has R^2={:.3f} and MSE={:.2f}'.format(r2,mse))\n",
    "\n",
    "# Plot the data and the predictions\n",
    "plt.figure(figsize=(10,5))\n",
    "plt.scatter(x=flights_df.index, y=flights_df['Count'])\n",
    "plt.plot(flights_df.index[days_lag:], preds,color='red')\n",
    "plt.xlim((flights_df.index[days_lag:].min(),flights_df.index.max()))\n",
    "plt.ylabel('Count of flights')\n",
    "plt.show()"
   ]
  },
  {
   "cell_type": "markdown",
   "metadata": {},
   "source": [
    "## OPTIONAL: Time series forecasting with Prophet\n",
    "Prophet is a open source time series forecasting tool from Facebook that uses a time series model where nonlinear trends are fit with yearly, weekly and daily seasonality plus holiday effects.  It breaks down time series data similar to our above example with statsmodels seasonal_decompose into trend and seasonal components, and then uses an additive or multiplicative model (as set by user) of the components to do forecasting.\n",
    "\n",
    "First install fbprophet (https://facebook.github.io/prophet/docs/installation.html#python).  I suggest using pip install rather than conda.  Make sure to install pystan first with pip before pfprophet:  \n",
    "pip install pystan  \n",
    "pip install fbprophet"
   ]
  },
  {
   "cell_type": "code",
   "execution_count": null,
   "metadata": {
    "scrolled": false
   },
   "outputs": [],
   "source": [
    "from fbprophet import Prophet"
   ]
  },
  {
   "cell_type": "code",
   "execution_count": null,
   "metadata": {},
   "outputs": [],
   "source": [
    "# Prophet expects the data to be in a DataFrame \n",
    "# with columns \"ds\" (date in Pandas datetime) and \"y\" (values)\n",
    "df = pd.DataFrame()\n",
    "df['ds'] = flights_per_day.index\n",
    "df['y'] = flights_per_day.values"
   ]
  },
  {
   "cell_type": "code",
   "execution_count": null,
   "metadata": {
    "scrolled": true
   },
   "outputs": [],
   "source": [
    "# Create the Prophet time series model and fit to the data\n",
    "model = Prophet(seasonality_mode='additive')\n",
    "model.fit(df)"
   ]
  },
  {
   "cell_type": "markdown",
   "metadata": {},
   "source": [
    "### Make an in-sample forecast"
   ]
  },
  {
   "cell_type": "code",
   "execution_count": null,
   "metadata": {},
   "outputs": [],
   "source": [
    "# Make an in-sample prediction for the dataset\n",
    "future = pd.DataFrame(df['ds']) # Put in format needed\n",
    "forecast_insample = model.predict(future) # Get the predictions for the week\n",
    "forecast_insample.T # Display the transposed data for easier viewing"
   ]
  },
  {
   "cell_type": "markdown",
   "metadata": {},
   "source": [
    "The above dataframe shows us a wealth of information about the predictions that Prophet made for the week.  'yhat' represents the prediction, and there is an upper and lower bount 'yhat_lower' and 'yhat_upper'.  We can see the trend component and the weekly seasonal component, which added together form our prediction (since we used an additive model rather than a multiplicative model)."
   ]
  },
  {
   "cell_type": "code",
   "execution_count": null,
   "metadata": {},
   "outputs": [],
   "source": [
    "# Plot the trend and seasonal components of the forecast\n",
    "model.plot_components(forecast_insample)\n",
    "plt.show()"
   ]
  },
  {
   "cell_type": "code",
   "execution_count": null,
   "metadata": {},
   "outputs": [],
   "source": [
    "# Calculate performance metrics on our model\n",
    "eval_df = pd.DataFrame({'Count':flights_per_day.values,'Preds':forecast_insample['yhat']})\n",
    "eval_df['resids'] = eval_df['Count'] - eval_df['Preds']\n",
    "mse = np.sum(eval_df['resids']**2,axis=0)/eval_df.shape[0]\n",
    "r2 = 1 - mse/np.var(eval_df['Count']) # Alternative way to calculate r2\n",
    "print('The Prophet time series model has R^2={:.2f} and MSE={:.2f}'.format(r2,mse))"
   ]
  },
  {
   "cell_type": "code",
   "execution_count": null,
   "metadata": {},
   "outputs": [],
   "source": [
    "# Plot the in-sample prediction\n",
    "model.plot(forecast_insample)\n",
    "plt.show()"
   ]
  },
  {
   "cell_type": "markdown",
   "metadata": {},
   "source": [
    "The above plot shows the training data that we provided to the model represented as black dots, and the forecast as a blue line with upper and lower bounds in the shaded area. We can see that the model does a reasonable job predicting the in-sample values."
   ]
  },
  {
   "cell_type": "markdown",
   "metadata": {},
   "source": [
    "### Make a future forecast"
   ]
  },
  {
   "cell_type": "code",
   "execution_count": null,
   "metadata": {},
   "outputs": [],
   "source": [
    "# Use Prophet helper function to create dataframe with dates for next 14 days after the training period\n",
    "future = model.make_future_dataframe(periods=14) \n",
    "\n",
    "# Generate a forecast for the future 14 days\n",
    "forecast = model.predict(future)\n",
    "forecast.head().T"
   ]
  },
  {
   "cell_type": "code",
   "execution_count": null,
   "metadata": {},
   "outputs": [],
   "source": [
    "# Display the forecast and the training datapoints\n",
    "model.plot(forecast)\n",
    "plt.show()"
   ]
  },
  {
   "cell_type": "markdown",
   "metadata": {},
   "source": [
    "Again, the training data from our dataset are shown with black dots, and the forecast is shown in blue, now including the forecast for the next two weeks.\n",
    "\n",
    "We can also visualize the components of the forecast as follows:"
   ]
  }
 ],
 "metadata": {
  "kernelspec": {
   "display_name": "Python 3.7.10 ('base')",
   "language": "python",
   "name": "python3"
  },
  "language_info": {
   "codemirror_mode": {
    "name": "ipython",
    "version": 3
   },
   "file_extension": ".py",
   "mimetype": "text/x-python",
   "name": "python",
   "nbconvert_exporter": "python",
   "pygments_lexer": "ipython3",
   "version": "3.7.10"
  },
  "vscode": {
   "interpreter": {
    "hash": "40d3a090f54c6569ab1632332b64b2c03c39dcf918b08424e98f38b5ae0af88f"
   }
  }
 },
 "nbformat": 4,
 "nbformat_minor": 4
}
