{
 "cells": [
  {
   "cell_type": "markdown",
   "metadata": {},
   "source": [
    "<a href='https://ai.meng.duke.edu'> = <img align=\"left\" style=\"padding-top:10px;\" src=https://storage.googleapis.com/aipi_datasets/Duke-AIPI-Logo.png>"
   ]
  },
  {
   "cell_type": "markdown",
   "metadata": {},
   "source": [
    "# COVID Data Analysis - Working with API Data"
   ]
  },
  {
   "cell_type": "markdown",
   "metadata": {},
   "source": [
    "Data from COVID Tracking Project (https://covidtracking.com/api)"
   ]
  },
  {
   "cell_type": "code",
   "execution_count": null,
   "metadata": {},
   "outputs": [],
   "source": [
    "import requests\n",
    "import json\n",
    "import pandas as pd\n",
    "import numpy as np\n",
    "import matplotlib.pyplot as plt\n",
    "import matplotlib.dates as mdates"
   ]
  },
  {
   "cell_type": "markdown",
   "metadata": {},
   "source": [
    "## Part 1: Get the data\n",
    "Get data for the state of North Carolina from the [Covid Tracking Project API](https://covidtracking.com/data/api) and put it into a pandas dataframe called ***state_covid_data***. We will put our code in the function ***get_data()***\n",
    "\n",
    "You can check out the requests package documentation at https://requests.readthedocs.io/en/master/user/quickstart/\n",
    "\n",
    "NOTE: there is now a v2 of the Covid Tracking Project API.  We will be using v1 for this exercise, because it is simpler to work with.  The endpoint for the v1 API is: \"https://api.covidtracking.com/v1/states/{STATE_NAME}/daily.json\""
   ]
  },
  {
   "cell_type": "code",
   "execution_count": null,
   "metadata": {},
   "outputs": [],
   "source": [
    "def get_data(state):\n",
    "    '''\n",
    "    Gets data from the Covid Tracking Project API for a given state\n",
    "\n",
    "    Inputs:\n",
    "        state(str): state abbreviation\n",
    "\n",
    "    Returns:\n",
    "        state_covid_data(DataFrame): dataframe containing covid data for each day of the tracking period from the API\n",
    "    '''\n",
    "\n",
    "    \n",
    "    ### BEGIN SOLUTION ###\n",
    "\n",
    "\n",
    "    ### END SOLUTION"
   ]
  },
  {
   "cell_type": "code",
   "execution_count": null,
   "metadata": {},
   "outputs": [],
   "source": [
    "state = \"nc\"\n",
    "state_covid_data = get_data(state)\n",
    "state_covid_data.head()"
   ]
  },
  {
   "cell_type": "markdown",
   "metadata": {},
   "source": [
    "## Part 2: Clean up and plot the data\n",
    "Complete the below function `clean_data()` which leans up the dataframe as follows:  \n",
    "- Convert the 'date' column to pandas datetime\n",
    "- Set the dataframe index to the 'date'\n",
    "\n",
    "The function should then plot the daily number of new cases ('positiveIncrease') over time as a line chart.  It should return a dictionary containing the clean dataframe of results (as values) for each state (as keys)"
   ]
  },
  {
   "cell_type": "code",
   "execution_count": null,
   "metadata": {},
   "outputs": [],
   "source": [
    "def clean_data(df):\n",
    "    '''\n",
    "    Cleans the raw covid data from the api and plots line chart of new cases\n",
    "\n",
    "    Inputs:\n",
    "        df(DataFrame): dataframe of raw data from the api, one row per day\n",
    "\n",
    "    Returns:\n",
    "        df_clean(DataFrame): dataframe of covid data with index set to date\n",
    "    '''\n",
    "    ### BEGIN SOLUTION ###\n",
    "\n",
    "   \n",
    "    ### END SOLUTION ###"
   ]
  },
  {
   "cell_type": "code",
   "execution_count": null,
   "metadata": {},
   "outputs": [],
   "source": [
    "# Run function to display chart\n",
    "df_clean = clean_data(state_covid_data)"
   ]
  },
  {
   "cell_type": "markdown",
   "metadata": {},
   "source": [
    "## Part 3: Compare multiple states"
   ]
  },
  {
   "cell_type": "markdown",
   "metadata": {},
   "source": [
    "Complete the function below to use the API to get data for the states North Carolina (nc), New York (ny), and California (ca).  Your function should make use of your other function `get_data()`.  It should then plot the data for all three states on a set of 4 plots:  \n",
    "1) Cumulative postive cases over time  \n",
    "2) Cumulative deaths over time  \n",
    "3) Number of current hospitalized patients  \n",
    "4) Number of new cases. \n",
    "\n",
    "Your visualization should look something like the image below (charts do not have to be in grid layout).  Be sure to include a legend on your charts in order to identify which line corresponds to which state.\n",
    "\n",
    "<img align=\"left\" style=\"padding-top:10px;\" src=\"covid_data_plot.png\">"
   ]
  },
  {
   "cell_type": "code",
   "execution_count": null,
   "metadata": {
    "lines_to_next_cell": 0
   },
   "outputs": [],
   "source": [
    "def generate_plots(states):\n",
    "    '''\n",
    "    Gets covid data from the API and generates plots of cases, deaths, hospitalizations and cumulative cases over time\n",
    "\n",
    "    Inputs:\n",
    "        states(list): list of state abbreviations to include\n",
    "\n",
    "    Returns:\n",
    "        data(dict): dictionary with the states as keys and the values being cleaned DataFrames containing the covid data for the corresponding state\n",
    "    '''\n",
    "    ### BEGIN SOLUTION ###\n",
    "   \n",
    "    ### END SOLUTION ###"
   ]
  },
  {
   "cell_type": "code",
   "execution_count": null,
   "metadata": {
    "lines_to_next_cell": 2
   },
   "outputs": [],
   "source": [
    "# Test function and display charts\n",
    "states = ['nc','ny','ca']\n",
    "data = generate_plots(states)\n",
    "\n",
    "assert type(data) == dict\n",
    "assert len(data.keys()) == len(states)\n",
    "for state in states:\n",
    "    assert state in data.keys()\n",
    "assert type(data['nc']) == pd.DataFrame"
   ]
  }
 ],
 "metadata": {
  "jupytext": {
   "formats": "ipynb,py:light"
  },
  "kernelspec": {
   "display_name": "Python 3.9.7 ('aipi540')",
   "language": "python",
   "name": "python3"
  },
  "language_info": {
   "codemirror_mode": {
    "name": "ipython",
    "version": 3
   },
   "file_extension": ".py",
   "mimetype": "text/x-python",
   "name": "python",
   "nbconvert_exporter": "python",
   "pygments_lexer": "ipython3",
   "version": "3.9.7"
  },
  "vscode": {
   "interpreter": {
    "hash": "31cc86d7aac4849c7546154c9b56d60163d5e8a1d83593a5eed18774fbf4fd37"
   }
  }
 },
 "nbformat": 4,
 "nbformat_minor": 4
}
