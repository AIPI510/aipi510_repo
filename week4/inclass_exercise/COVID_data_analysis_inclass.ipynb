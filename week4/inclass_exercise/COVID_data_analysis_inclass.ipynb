{
 "cells": [
  {
   "cell_type": "markdown",
   "metadata": {},
   "source": [
    "<a href='https://ai.meng.duke.edu'> = <img align=\"left\" style=\"padding-top:10px;\" src=https://storage.googleapis.com/aipi_datasets/Duke-AIPI-Logo.png>"
   ]
  },
  {
   "cell_type": "markdown",
   "metadata": {},
   "source": [
    "# COVID Data Analysis - Working with API Data"
   ]
  },
  {
   "cell_type": "markdown",
   "metadata": {},
   "source": [
    "Data from COVID Tracking Project (https://covidtracking.com/api)"
   ]
  },
  {
   "cell_type": "code",
   "execution_count": null,
   "metadata": {},
   "outputs": [],
   "source": [
    "import requests\n",
    "import json\n",
    "import pandas as pd\n",
    "import numpy as np\n",
    "import matplotlib.pyplot as plt\n",
    "import matplotlib.dates as mdates"
   ]
  },
  {
   "cell_type": "markdown",
   "metadata": {},
   "source": [
    "## Part 0: Get the data\n",
    "Get data for the state of 'nc' from the [Covid Tracking Project API](https://covidtracking.com/data/api) and put it into a pandas dataframe called ***state_covid_data***. We will put our code in the function ***get_data()***\n",
    "\n",
    "You can check out the requests package documentation at https://requests.readthedocs.io/en/master/user/quickstart/\n",
    "\n",
    "NOTE: there is now a v2 of the Covid Tracking Project API.  We will be using v1 for this exercise, because it is simpler to work with.  The endpoint for the v1 API is: \"https://api.covidtracking.com/v1/states/{state_name}/daily.json\""
   ]
  },
  {
   "cell_type": "code",
   "execution_count": null,
   "metadata": {},
   "outputs": [],
   "source": [
    "def get_data(state):\n",
    "    # One approach to doing this (there may be others that work):\n",
    "    #   Set endpoint (format described on https://covidtracking.com/api)\n",
    "    #   Make API request using requests\n",
    "    #   Decode JSON response\n",
    "    #   Convert response to pandas dataframe\n",
    "    \n",
    "    ### BEGIN SOLUTION ###\n",
    "\n",
    "\n",
    "\n",
    "    ### END SOLUTION\n",
    "    return state_covid_data"
   ]
  },
  {
   "cell_type": "code",
   "execution_count": null,
   "metadata": {},
   "outputs": [],
   "source": [
    "state = \"nc\"\n",
    "state_covid_data = get_data(state)\n",
    "state_covid_data.head()"
   ]
  },
  {
   "cell_type": "markdown",
   "metadata": {},
   "source": [
    "## Part 1: Clean up and plot the data\n",
    "Clean up the dataframe as follows:  \n",
    "- Convert the 'date' column to pandas datetime\n",
    "- Set the dataframe index to the 'date'\n",
    "\n",
    "Then, plot the daily number of new cases ('positiveIncrease') over time as a line chart"
   ]
  },
  {
   "cell_type": "code",
   "execution_count": null,
   "metadata": {},
   "outputs": [],
   "source": [
    "### BEGIN SOLUTION ###\n",
    "\n",
    "\n",
    "\n",
    "### END SOLUTION ###"
   ]
  },
  {
   "cell_type": "markdown",
   "metadata": {},
   "source": [
    "## Part 2: Compare multiple states"
   ]
  },
  {
   "cell_type": "markdown",
   "metadata": {},
   "source": [
    "Use the API to get data for the states 'nc','ny' and 'ca' (you can use your function get_data()) and format the date column and index as we did above. Then plot the data for all three states on a set of 4 plots:  \n",
    "1) Cumulative postive cases over time  \n",
    "2) Cumulative deaths over time  \n",
    "3) Number of current hospitalized patients  \n",
    "4) Number of new cases. \n",
    "\n",
    "Your visualization should look something like the image below (charts do not have to be in grid layout):  \n",
    "\n",
    "<img align=\"left\" style=\"padding-top:10px;\" src=\"covid_data_plot.png\">"
   ]
  },
  {
   "cell_type": "code",
   "execution_count": null,
   "metadata": {
    "lines_to_next_cell": 0
   },
   "outputs": [],
   "source": [
    "### BEGIN SOLUTION ###\n",
    "\n",
    "\n",
    "\n",
    "### END SOLUTION"
   ]
  },
  {
   "cell_type": "code",
   "execution_count": null,
   "metadata": {
    "lines_to_next_cell": 2
   },
   "outputs": [],
   "source": []
  }
 ],
 "metadata": {
  "jupytext": {
   "formats": "ipynb,py:light"
  },
  "kernelspec": {
   "display_name": "Python 3",
   "language": "python",
   "name": "python3"
  },
  "language_info": {
   "codemirror_mode": {
    "name": "ipython",
    "version": 3
   },
   "file_extension": ".py",
   "mimetype": "text/x-python",
   "name": "python",
   "nbconvert_exporter": "python",
   "pygments_lexer": "ipython3",
   "version": "3.7.10"
  }
 },
 "nbformat": 4,
 "nbformat_minor": 4
}
