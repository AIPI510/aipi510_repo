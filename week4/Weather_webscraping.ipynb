{
 "cells": [
  {
   "cell_type": "markdown",
   "metadata": {},
   "source": [
    "<a href='https://ai.meng.duke.edu'> = <img align=\"left\" style=\"padding-top:10px;\" src=https://storage.googleapis.com/aipi_datasets/Duke-AIPI-Logo.png>"
   ]
  },
  {
   "cell_type": "markdown",
   "metadata": {},
   "source": [
    "# Parsing Weather Data with Beautiful Soup"
   ]
  },
  {
   "cell_type": "code",
   "execution_count": null,
   "metadata": {},
   "outputs": [],
   "source": [
    "from bs4 import BeautifulSoup\n",
    "import pandas as pd\n",
    "import numpy as np\n",
    "import requests\n",
    "import matplotlib.pyplot as plt"
   ]
  },
  {
   "cell_type": "code",
   "execution_count": null,
   "metadata": {},
   "outputs": [],
   "source": [
    "# Let's try to scrape the National Weather Service forecast\n",
    "url = 'https://forecast.weather.gov/MapClick.php?lat=35.82547090000003&lon=-78.90540939999994#.X1u__NYpCi4'"
   ]
  },
  {
   "cell_type": "code",
   "execution_count": null,
   "metadata": {},
   "outputs": [],
   "source": [
    "# Request the page and use BeautifulSoup to extract the contents\n",
    "page = requests.get(url)\n",
    "soup = BeautifulSoup(page.content, 'html.parser')\n",
    "\n",
    "# Print out the page contents\n",
    "print(soup.prettify())"
   ]
  },
  {
   "cell_type": "code",
   "execution_count": null,
   "metadata": {},
   "outputs": [],
   "source": [
    "# Let's look for all H2 tags\n",
    "soup.find_all('h2')"
   ]
  },
  {
   "cell_type": "code",
   "execution_count": null,
   "metadata": {},
   "outputs": [],
   "source": [
    "# Let's extract the daily forecast object\n",
    "daily_forecast = soup.find(attrs={'id':'seven-day-forecast-body'})\n",
    "print(daily_forecast.prettify())"
   ]
  },
  {
   "cell_type": "code",
   "execution_count": null,
   "metadata": {},
   "outputs": [],
   "source": [
    "# Extract the individual forecasts from the 'seven-day-forecast-body' object\n",
    "tombstones = daily_forecast.find_all(attrs={'class':'forecast-tombstone'})\n",
    "len(tombstones)"
   ]
  },
  {
   "cell_type": "code",
   "execution_count": null,
   "metadata": {},
   "outputs": [],
   "source": [
    "forecast_dict = {}\n",
    "\n",
    "# Extract the period, forecast description, and temperature text for each forecast period\n",
    "for tombstone in tombstones:\n",
    "    period = tombstone.find(attrs={'class':'period-name'}).text\n",
    "    desc = tombstone.find(attrs={'class':'short-desc'}).text\n",
    "    temp = tombstone.find(attrs={'class':'temp'}).text\n",
    "    \n",
    "    # Add to forecast_dict\n",
    "    forecast_dict[period] = [desc,temp]\n",
    "    \n",
    "forecast_dict"
   ]
  },
  {
   "cell_type": "code",
   "execution_count": null,
   "metadata": {},
   "outputs": [],
   "source": [
    "forecast_df = pd.DataFrame.from_dict(forecast_dict,orient='index',columns=['Conditions','Temperature'])\n",
    "forecast_df"
   ]
  },
  {
   "cell_type": "code",
   "execution_count": null,
   "metadata": {},
   "outputs": [],
   "source": [
    "# Clean up Temperature column to remove text\n",
    "forecast_df['Temperature'] = forecast_df['Temperature'].apply(lambda x: x.split(':')[1].strip())\n",
    "forecast_df"
   ]
  }
 ],
 "metadata": {
  "kernelspec": {
   "display_name": "Python 3",
   "language": "python",
   "name": "python3"
  },
  "language_info": {
   "codemirror_mode": {
    "name": "ipython",
    "version": 3
   },
   "file_extension": ".py",
   "mimetype": "text/x-python",
   "name": "python",
   "nbconvert_exporter": "python",
   "pygments_lexer": "ipython3",
   "version": "3.8.5"
  }
 },
 "nbformat": 4,
 "nbformat_minor": 4
}
